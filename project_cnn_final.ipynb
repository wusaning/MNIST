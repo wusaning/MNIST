{
 "cells": [
  {
   "cell_type": "code",
   "execution_count": 1,
   "metadata": {},
   "outputs": [
    {
     "name": "stderr",
     "output_type": "stream",
     "text": [
      "Using TensorFlow backend.\n"
     ]
    }
   ],
   "source": [
    "import keras\n",
    "from keras.datasets import mnist\n",
    "from keras.models import Sequential\n",
    "from keras.layers import BatchNormalization, Dense, Dropout, Flatten\n",
    "from keras.layers import Conv2D, MaxPooling2D\n",
    "from keras.wrappers.scikit_learn import KerasClassifier\n",
    "from sklearn.pipeline import Pipeline\n",
    "from sklearn.model_selection import train_test_split\n",
    "from sklearn.metrics import confusion_matrix, accuracy_score, precision_score, recall_score, f1_score\n",
    "from sklearn.model_selection import GridSearchCV\n",
    "import numpy as np\n",
    "import pandas as pd\n",
    "import seaborn as sn\n",
    "import matplotlib.pyplot as plt\n",
    "from keras.preprocessing.image import ImageDataGenerator\n",
    "%matplotlib inline"
   ]
  },
  {
   "cell_type": "code",
   "execution_count": 2,
   "metadata": {},
   "outputs": [],
   "source": [
    "# print all the outputs in a cell\n",
    "from IPython.core.interactiveshell import InteractiveShell\n",
    "InteractiveShell.ast_node_interactivity = \"all\""
   ]
  },
  {
   "cell_type": "code",
   "execution_count": 3,
   "metadata": {},
   "outputs": [
    {
     "name": "stdout",
     "output_type": "stream",
     "text": [
      "(42000, 785)\n",
      "(28000, 784)\n"
     ]
    }
   ],
   "source": [
    "# reading data\n",
    "train = pd.read_csv(\"train.csv\")\n",
    "test = pd.read_csv(\"test.csv\")\n",
    "print(train.shape)\n",
    "print(test.shape)"
   ]
  },
  {
   "cell_type": "code",
   "execution_count": 4,
   "metadata": {},
   "outputs": [
    {
     "data": {
      "text/html": [
       "<div>\n",
       "<style scoped>\n",
       "    .dataframe tbody tr th:only-of-type {\n",
       "        vertical-align: middle;\n",
       "    }\n",
       "\n",
       "    .dataframe tbody tr th {\n",
       "        vertical-align: top;\n",
       "    }\n",
       "\n",
       "    .dataframe thead th {\n",
       "        text-align: right;\n",
       "    }\n",
       "</style>\n",
       "<table border=\"1\" class=\"dataframe\">\n",
       "  <thead>\n",
       "    <tr style=\"text-align: right;\">\n",
       "      <th></th>\n",
       "      <th>label</th>\n",
       "      <th>pixel0</th>\n",
       "      <th>pixel1</th>\n",
       "      <th>pixel2</th>\n",
       "      <th>pixel3</th>\n",
       "      <th>pixel4</th>\n",
       "      <th>pixel5</th>\n",
       "      <th>pixel6</th>\n",
       "      <th>pixel7</th>\n",
       "      <th>pixel8</th>\n",
       "      <th>...</th>\n",
       "      <th>pixel774</th>\n",
       "      <th>pixel775</th>\n",
       "      <th>pixel776</th>\n",
       "      <th>pixel777</th>\n",
       "      <th>pixel778</th>\n",
       "      <th>pixel779</th>\n",
       "      <th>pixel780</th>\n",
       "      <th>pixel781</th>\n",
       "      <th>pixel782</th>\n",
       "      <th>pixel783</th>\n",
       "    </tr>\n",
       "  </thead>\n",
       "  <tbody>\n",
       "    <tr>\n",
       "      <th>0</th>\n",
       "      <td>1</td>\n",
       "      <td>0</td>\n",
       "      <td>0</td>\n",
       "      <td>0</td>\n",
       "      <td>0</td>\n",
       "      <td>0</td>\n",
       "      <td>0</td>\n",
       "      <td>0</td>\n",
       "      <td>0</td>\n",
       "      <td>0</td>\n",
       "      <td>...</td>\n",
       "      <td>0</td>\n",
       "      <td>0</td>\n",
       "      <td>0</td>\n",
       "      <td>0</td>\n",
       "      <td>0</td>\n",
       "      <td>0</td>\n",
       "      <td>0</td>\n",
       "      <td>0</td>\n",
       "      <td>0</td>\n",
       "      <td>0</td>\n",
       "    </tr>\n",
       "    <tr>\n",
       "      <th>1</th>\n",
       "      <td>0</td>\n",
       "      <td>0</td>\n",
       "      <td>0</td>\n",
       "      <td>0</td>\n",
       "      <td>0</td>\n",
       "      <td>0</td>\n",
       "      <td>0</td>\n",
       "      <td>0</td>\n",
       "      <td>0</td>\n",
       "      <td>0</td>\n",
       "      <td>...</td>\n",
       "      <td>0</td>\n",
       "      <td>0</td>\n",
       "      <td>0</td>\n",
       "      <td>0</td>\n",
       "      <td>0</td>\n",
       "      <td>0</td>\n",
       "      <td>0</td>\n",
       "      <td>0</td>\n",
       "      <td>0</td>\n",
       "      <td>0</td>\n",
       "    </tr>\n",
       "    <tr>\n",
       "      <th>2</th>\n",
       "      <td>1</td>\n",
       "      <td>0</td>\n",
       "      <td>0</td>\n",
       "      <td>0</td>\n",
       "      <td>0</td>\n",
       "      <td>0</td>\n",
       "      <td>0</td>\n",
       "      <td>0</td>\n",
       "      <td>0</td>\n",
       "      <td>0</td>\n",
       "      <td>...</td>\n",
       "      <td>0</td>\n",
       "      <td>0</td>\n",
       "      <td>0</td>\n",
       "      <td>0</td>\n",
       "      <td>0</td>\n",
       "      <td>0</td>\n",
       "      <td>0</td>\n",
       "      <td>0</td>\n",
       "      <td>0</td>\n",
       "      <td>0</td>\n",
       "    </tr>\n",
       "    <tr>\n",
       "      <th>3</th>\n",
       "      <td>4</td>\n",
       "      <td>0</td>\n",
       "      <td>0</td>\n",
       "      <td>0</td>\n",
       "      <td>0</td>\n",
       "      <td>0</td>\n",
       "      <td>0</td>\n",
       "      <td>0</td>\n",
       "      <td>0</td>\n",
       "      <td>0</td>\n",
       "      <td>...</td>\n",
       "      <td>0</td>\n",
       "      <td>0</td>\n",
       "      <td>0</td>\n",
       "      <td>0</td>\n",
       "      <td>0</td>\n",
       "      <td>0</td>\n",
       "      <td>0</td>\n",
       "      <td>0</td>\n",
       "      <td>0</td>\n",
       "      <td>0</td>\n",
       "    </tr>\n",
       "    <tr>\n",
       "      <th>4</th>\n",
       "      <td>0</td>\n",
       "      <td>0</td>\n",
       "      <td>0</td>\n",
       "      <td>0</td>\n",
       "      <td>0</td>\n",
       "      <td>0</td>\n",
       "      <td>0</td>\n",
       "      <td>0</td>\n",
       "      <td>0</td>\n",
       "      <td>0</td>\n",
       "      <td>...</td>\n",
       "      <td>0</td>\n",
       "      <td>0</td>\n",
       "      <td>0</td>\n",
       "      <td>0</td>\n",
       "      <td>0</td>\n",
       "      <td>0</td>\n",
       "      <td>0</td>\n",
       "      <td>0</td>\n",
       "      <td>0</td>\n",
       "      <td>0</td>\n",
       "    </tr>\n",
       "  </tbody>\n",
       "</table>\n",
       "<p>5 rows × 785 columns</p>\n",
       "</div>"
      ],
      "text/plain": [
       "   label  pixel0  pixel1  pixel2  pixel3  pixel4  pixel5  pixel6  pixel7  \\\n",
       "0      1       0       0       0       0       0       0       0       0   \n",
       "1      0       0       0       0       0       0       0       0       0   \n",
       "2      1       0       0       0       0       0       0       0       0   \n",
       "3      4       0       0       0       0       0       0       0       0   \n",
       "4      0       0       0       0       0       0       0       0       0   \n",
       "\n",
       "   pixel8  ...  pixel774  pixel775  pixel776  pixel777  pixel778  pixel779  \\\n",
       "0       0  ...         0         0         0         0         0         0   \n",
       "1       0  ...         0         0         0         0         0         0   \n",
       "2       0  ...         0         0         0         0         0         0   \n",
       "3       0  ...         0         0         0         0         0         0   \n",
       "4       0  ...         0         0         0         0         0         0   \n",
       "\n",
       "   pixel780  pixel781  pixel782  pixel783  \n",
       "0         0         0         0         0  \n",
       "1         0         0         0         0  \n",
       "2         0         0         0         0  \n",
       "3         0         0         0         0  \n",
       "4         0         0         0         0  \n",
       "\n",
       "[5 rows x 785 columns]"
      ]
     },
     "execution_count": 4,
     "metadata": {},
     "output_type": "execute_result"
    }
   ],
   "source": [
    "train.head()"
   ]
  },
  {
   "cell_type": "code",
   "execution_count": 5,
   "metadata": {},
   "outputs": [
    {
     "data": {
      "text/html": [
       "<div>\n",
       "<style scoped>\n",
       "    .dataframe tbody tr th:only-of-type {\n",
       "        vertical-align: middle;\n",
       "    }\n",
       "\n",
       "    .dataframe tbody tr th {\n",
       "        vertical-align: top;\n",
       "    }\n",
       "\n",
       "    .dataframe thead th {\n",
       "        text-align: right;\n",
       "    }\n",
       "</style>\n",
       "<table border=\"1\" class=\"dataframe\">\n",
       "  <thead>\n",
       "    <tr style=\"text-align: right;\">\n",
       "      <th></th>\n",
       "      <th>pixel0</th>\n",
       "      <th>pixel1</th>\n",
       "      <th>pixel2</th>\n",
       "      <th>pixel3</th>\n",
       "      <th>pixel4</th>\n",
       "      <th>pixel5</th>\n",
       "      <th>pixel6</th>\n",
       "      <th>pixel7</th>\n",
       "      <th>pixel8</th>\n",
       "      <th>pixel9</th>\n",
       "      <th>...</th>\n",
       "      <th>pixel774</th>\n",
       "      <th>pixel775</th>\n",
       "      <th>pixel776</th>\n",
       "      <th>pixel777</th>\n",
       "      <th>pixel778</th>\n",
       "      <th>pixel779</th>\n",
       "      <th>pixel780</th>\n",
       "      <th>pixel781</th>\n",
       "      <th>pixel782</th>\n",
       "      <th>pixel783</th>\n",
       "    </tr>\n",
       "  </thead>\n",
       "  <tbody>\n",
       "    <tr>\n",
       "      <th>0</th>\n",
       "      <td>0</td>\n",
       "      <td>0</td>\n",
       "      <td>0</td>\n",
       "      <td>0</td>\n",
       "      <td>0</td>\n",
       "      <td>0</td>\n",
       "      <td>0</td>\n",
       "      <td>0</td>\n",
       "      <td>0</td>\n",
       "      <td>0</td>\n",
       "      <td>...</td>\n",
       "      <td>0</td>\n",
       "      <td>0</td>\n",
       "      <td>0</td>\n",
       "      <td>0</td>\n",
       "      <td>0</td>\n",
       "      <td>0</td>\n",
       "      <td>0</td>\n",
       "      <td>0</td>\n",
       "      <td>0</td>\n",
       "      <td>0</td>\n",
       "    </tr>\n",
       "    <tr>\n",
       "      <th>1</th>\n",
       "      <td>0</td>\n",
       "      <td>0</td>\n",
       "      <td>0</td>\n",
       "      <td>0</td>\n",
       "      <td>0</td>\n",
       "      <td>0</td>\n",
       "      <td>0</td>\n",
       "      <td>0</td>\n",
       "      <td>0</td>\n",
       "      <td>0</td>\n",
       "      <td>...</td>\n",
       "      <td>0</td>\n",
       "      <td>0</td>\n",
       "      <td>0</td>\n",
       "      <td>0</td>\n",
       "      <td>0</td>\n",
       "      <td>0</td>\n",
       "      <td>0</td>\n",
       "      <td>0</td>\n",
       "      <td>0</td>\n",
       "      <td>0</td>\n",
       "    </tr>\n",
       "    <tr>\n",
       "      <th>2</th>\n",
       "      <td>0</td>\n",
       "      <td>0</td>\n",
       "      <td>0</td>\n",
       "      <td>0</td>\n",
       "      <td>0</td>\n",
       "      <td>0</td>\n",
       "      <td>0</td>\n",
       "      <td>0</td>\n",
       "      <td>0</td>\n",
       "      <td>0</td>\n",
       "      <td>...</td>\n",
       "      <td>0</td>\n",
       "      <td>0</td>\n",
       "      <td>0</td>\n",
       "      <td>0</td>\n",
       "      <td>0</td>\n",
       "      <td>0</td>\n",
       "      <td>0</td>\n",
       "      <td>0</td>\n",
       "      <td>0</td>\n",
       "      <td>0</td>\n",
       "    </tr>\n",
       "    <tr>\n",
       "      <th>3</th>\n",
       "      <td>0</td>\n",
       "      <td>0</td>\n",
       "      <td>0</td>\n",
       "      <td>0</td>\n",
       "      <td>0</td>\n",
       "      <td>0</td>\n",
       "      <td>0</td>\n",
       "      <td>0</td>\n",
       "      <td>0</td>\n",
       "      <td>0</td>\n",
       "      <td>...</td>\n",
       "      <td>0</td>\n",
       "      <td>0</td>\n",
       "      <td>0</td>\n",
       "      <td>0</td>\n",
       "      <td>0</td>\n",
       "      <td>0</td>\n",
       "      <td>0</td>\n",
       "      <td>0</td>\n",
       "      <td>0</td>\n",
       "      <td>0</td>\n",
       "    </tr>\n",
       "    <tr>\n",
       "      <th>4</th>\n",
       "      <td>0</td>\n",
       "      <td>0</td>\n",
       "      <td>0</td>\n",
       "      <td>0</td>\n",
       "      <td>0</td>\n",
       "      <td>0</td>\n",
       "      <td>0</td>\n",
       "      <td>0</td>\n",
       "      <td>0</td>\n",
       "      <td>0</td>\n",
       "      <td>...</td>\n",
       "      <td>0</td>\n",
       "      <td>0</td>\n",
       "      <td>0</td>\n",
       "      <td>0</td>\n",
       "      <td>0</td>\n",
       "      <td>0</td>\n",
       "      <td>0</td>\n",
       "      <td>0</td>\n",
       "      <td>0</td>\n",
       "      <td>0</td>\n",
       "    </tr>\n",
       "  </tbody>\n",
       "</table>\n",
       "<p>5 rows × 784 columns</p>\n",
       "</div>"
      ],
      "text/plain": [
       "   pixel0  pixel1  pixel2  pixel3  pixel4  pixel5  pixel6  pixel7  pixel8  \\\n",
       "0       0       0       0       0       0       0       0       0       0   \n",
       "1       0       0       0       0       0       0       0       0       0   \n",
       "2       0       0       0       0       0       0       0       0       0   \n",
       "3       0       0       0       0       0       0       0       0       0   \n",
       "4       0       0       0       0       0       0       0       0       0   \n",
       "\n",
       "   pixel9  ...  pixel774  pixel775  pixel776  pixel777  pixel778  pixel779  \\\n",
       "0       0  ...         0         0         0         0         0         0   \n",
       "1       0  ...         0         0         0         0         0         0   \n",
       "2       0  ...         0         0         0         0         0         0   \n",
       "3       0  ...         0         0         0         0         0         0   \n",
       "4       0  ...         0         0         0         0         0         0   \n",
       "\n",
       "   pixel780  pixel781  pixel782  pixel783  \n",
       "0         0         0         0         0  \n",
       "1         0         0         0         0  \n",
       "2         0         0         0         0  \n",
       "3         0         0         0         0  \n",
       "4         0         0         0         0  \n",
       "\n",
       "[5 rows x 784 columns]"
      ]
     },
     "execution_count": 5,
     "metadata": {},
     "output_type": "execute_result"
    }
   ],
   "source": [
    "test.head()"
   ]
  },
  {
   "cell_type": "code",
   "execution_count": 6,
   "metadata": {},
   "outputs": [
    {
     "name": "stdout",
     "output_type": "stream",
     "text": [
      "training data shape (42000, 28, 28, 1)\n",
      "testing data shape (28000, 28, 28, 1)\n",
      "training result shape (42000,)\n",
      "training result example 1\n"
     ]
    }
   ],
   "source": [
    "# preparing data\n",
    "y_train = train[\"label\"]\n",
    "x_train = train.iloc[:,1:]\n",
    "x_train = x_train / 255.0  # data range [0, 1]\n",
    "x_test = test / 255.0      # data range [0, 1]\n",
    "x_train = x_train.values.reshape(-1,28,28,1)   # input image dimensions: 28*28*1\n",
    "x_test = x_test.values.reshape(-1,28,28,1)\n",
    "#y_train = keras.utils.to_categorical(y_train, num_classes = 10)  # convert a class vector (integers) to binary class matrix\n",
    "print('training data shape', x_train.shape)\n",
    "print('testing data shape', x_test.shape)\n",
    "print('training result shape', y_train.shape)\n",
    "print('training result example', y_train[0])"
   ]
  },
  {
   "cell_type": "code",
   "execution_count": 7,
   "metadata": {
    "scrolled": true
   },
   "outputs": [
    {
     "data": {
      "text/plain": [
       "<BarContainer object of 10 artists>"
      ]
     },
     "execution_count": 7,
     "metadata": {},
     "output_type": "execute_result"
    },
    {
     "data": {
      "image/png": "[encoded data removed]",
      "text/plain": [
       "<Figure size 432x288 with 1 Axes>"
      ]
     },
     "metadata": {
      "needs_background": "light"
     },
     "output_type": "display_data"
    }
   ],
   "source": [
    "# check if labels are equally distributed, if not, weights should be assigned\n",
    "plt.bar(y_train.value_counts().index, y_train.value_counts().values)"
   ]
  },
  {
   "cell_type": "code",
   "execution_count": 8,
   "metadata": {},
   "outputs": [
    {
     "data": {
      "text/plain": [
       "<Figure size 1080x360 with 0 Axes>"
      ]
     },
     "execution_count": 8,
     "metadata": {},
     "output_type": "execute_result"
    },
    {
     "data": {
      "text/plain": [
       "<matplotlib.axes._subplots.AxesSubplot at 0x105126048>"
      ]
     },
     "execution_count": 8,
     "metadata": {},
     "output_type": "execute_result"
    },
    {
     "data": {
      "text/plain": [
       "<matplotlib.image.AxesImage at 0x10679b470>"
      ]
     },
     "execution_count": 8,
     "metadata": {},
     "output_type": "execute_result"
    },
    {
     "data": {
      "text/plain": [
       "(-0.5, 27.5, 27.5, -0.5)"
      ]
     },
     "execution_count": 8,
     "metadata": {},
     "output_type": "execute_result"
    },
    {
     "data": {
      "text/plain": [
       "<matplotlib.axes._subplots.AxesSubplot at 0x10679b438>"
      ]
     },
     "execution_count": 8,
     "metadata": {},
     "output_type": "execute_result"
    },
    {
     "data": {
      "text/plain": [
       "<matplotlib.image.AxesImage at 0x1050e2b70>"
      ]
     },
     "execution_count": 8,
     "metadata": {},
     "output_type": "execute_result"
    },
    {
     "data": {
      "text/plain": [
       "(-0.5, 27.5, 27.5, -0.5)"
      ]
     },
     "execution_count": 8,
     "metadata": {},
     "output_type": "execute_result"
    },
    {
     "data": {
      "text/plain": [
       "<matplotlib.axes._subplots.AxesSubplot at 0x1050e2e48>"
      ]
     },
     "execution_count": 8,
     "metadata": {},
     "output_type": "execute_result"
    },
    {
     "data": {
      "text/plain": [
       "<matplotlib.image.AxesImage at 0x106845550>"
      ]
     },
     "execution_count": 8,
     "metadata": {},
     "output_type": "execute_result"
    },
    {
     "data": {
      "text/plain": [
       "(-0.5, 27.5, 27.5, -0.5)"
      ]
     },
     "execution_count": 8,
     "metadata": {},
     "output_type": "execute_result"
    },
    {
     "data": {
      "text/plain": [
       "<matplotlib.axes._subplots.AxesSubplot at 0x1068454a8>"
      ]
     },
     "execution_count": 8,
     "metadata": {},
     "output_type": "execute_result"
    },
    {
     "data": {
      "text/plain": [
       "<matplotlib.image.AxesImage at 0x106868be0>"
      ]
     },
     "execution_count": 8,
     "metadata": {},
     "output_type": "execute_result"
    },
    {
     "data": {
      "text/plain": [
       "(-0.5, 27.5, 27.5, -0.5)"
      ]
     },
     "execution_count": 8,
     "metadata": {},
     "output_type": "execute_result"
    },
    {
     "data": {
      "text/plain": [
       "<matplotlib.axes._subplots.AxesSubplot at 0x106868f60>"
      ]
     },
     "execution_count": 8,
     "metadata": {},
     "output_type": "execute_result"
    },
    {
     "data": {
      "text/plain": [
       "<matplotlib.image.AxesImage at 0x11e255438>"
      ]
     },
     "execution_count": 8,
     "metadata": {},
     "output_type": "execute_result"
    },
    {
     "data": {
      "text/plain": [
       "(-0.5, 27.5, 27.5, -0.5)"
      ]
     },
     "execution_count": 8,
     "metadata": {},
     "output_type": "execute_result"
    },
    {
     "data": {
      "text/plain": [
       "<matplotlib.axes._subplots.AxesSubplot at 0x11e255828>"
      ]
     },
     "execution_count": 8,
     "metadata": {},
     "output_type": "execute_result"
    },
    {
     "data": {
      "text/plain": [
       "<matplotlib.image.AxesImage at 0x11e279c50>"
      ]
     },
     "execution_count": 8,
     "metadata": {},
     "output_type": "execute_result"
    },
    {
     "data": {
      "text/plain": [
       "(-0.5, 27.5, 27.5, -0.5)"
      ]
     },
     "execution_count": 8,
     "metadata": {},
     "output_type": "execute_result"
    },
    {
     "data": {
      "text/plain": [
       "<matplotlib.axes._subplots.AxesSubplot at 0x11e279f28>"
      ]
     },
     "execution_count": 8,
     "metadata": {},
     "output_type": "execute_result"
    },
    {
     "data": {
      "text/plain": [
       "<matplotlib.image.AxesImage at 0x11e2a74e0>"
      ]
     },
     "execution_count": 8,
     "metadata": {},
     "output_type": "execute_result"
    },
    {
     "data": {
      "text/plain": [
       "(-0.5, 27.5, 27.5, -0.5)"
      ]
     },
     "execution_count": 8,
     "metadata": {},
     "output_type": "execute_result"
    },
    {
     "data": {
      "text/plain": [
       "<matplotlib.axes._subplots.AxesSubplot at 0x11e2a77f0>"
      ]
     },
     "execution_count": 8,
     "metadata": {},
     "output_type": "execute_result"
    },
    {
     "data": {
      "text/plain": [
       "<matplotlib.image.AxesImage at 0x11e2cdcc0>"
      ]
     },
     "execution_count": 8,
     "metadata": {},
     "output_type": "execute_result"
    },
    {
     "data": {
      "text/plain": [
       "(-0.5, 27.5, 27.5, -0.5)"
      ]
     },
     "execution_count": 8,
     "metadata": {},
     "output_type": "execute_result"
    },
    {
     "data": {
      "text/plain": [
       "<matplotlib.axes._subplots.AxesSubplot at 0x11e2a7828>"
      ]
     },
     "execution_count": 8,
     "metadata": {},
     "output_type": "execute_result"
    },
    {
     "data": {
      "text/plain": [
       "<matplotlib.image.AxesImage at 0x11e2f9518>"
      ]
     },
     "execution_count": 8,
     "metadata": {},
     "output_type": "execute_result"
    },
    {
     "data": {
      "text/plain": [
       "(-0.5, 27.5, 27.5, -0.5)"
      ]
     },
     "execution_count": 8,
     "metadata": {},
     "output_type": "execute_result"
    },
    {
     "data": {
      "text/plain": [
       "<matplotlib.axes._subplots.AxesSubplot at 0x11e2f97f0>"
      ]
     },
     "execution_count": 8,
     "metadata": {},
     "output_type": "execute_result"
    },
    {
     "data": {
      "text/plain": [
       "<matplotlib.image.AxesImage at 0x11e31dd30>"
      ]
     },
     "execution_count": 8,
     "metadata": {},
     "output_type": "execute_result"
    },
    {
     "data": {
      "text/plain": [
       "(-0.5, 27.5, 27.5, -0.5)"
      ]
     },
     "execution_count": 8,
     "metadata": {},
     "output_type": "execute_result"
    },
    {
     "data": {
      "text/plain": [
       "<matplotlib.axes._subplots.AxesSubplot at 0x11e3290b8>"
      ]
     },
     "execution_count": 8,
     "metadata": {},
     "output_type": "execute_result"
    },
    {
     "data": {
      "text/plain": [
       "<matplotlib.image.AxesImage at 0x11e2f9828>"
      ]
     },
     "execution_count": 8,
     "metadata": {},
     "output_type": "execute_result"
    },
    {
     "data": {
      "text/plain": [
       "(-0.5, 27.5, 27.5, -0.5)"
      ]
     },
     "execution_count": 8,
     "metadata": {},
     "output_type": "execute_result"
    },
    {
     "data": {
      "text/plain": [
       "<matplotlib.axes._subplots.AxesSubplot at 0x11e34e908>"
      ]
     },
     "execution_count": 8,
     "metadata": {},
     "output_type": "execute_result"
    },
    {
     "data": {
      "text/plain": [
       "<matplotlib.image.AxesImage at 0x11e377e48>"
      ]
     },
     "execution_count": 8,
     "metadata": {},
     "output_type": "execute_result"
    },
    {
     "data": {
      "text/plain": [
       "(-0.5, 27.5, 27.5, -0.5)"
      ]
     },
     "execution_count": 8,
     "metadata": {},
     "output_type": "execute_result"
    },
    {
     "data": {
      "text/plain": [
       "<matplotlib.axes._subplots.AxesSubplot at 0x11e34e940>"
      ]
     },
     "execution_count": 8,
     "metadata": {},
     "output_type": "execute_result"
    },
    {
     "data": {
      "text/plain": [
       "<matplotlib.image.AxesImage at 0x11e3a95f8>"
      ]
     },
     "execution_count": 8,
     "metadata": {},
     "output_type": "execute_result"
    },
    {
     "data": {
      "text/plain": [
       "(-0.5, 27.5, 27.5, -0.5)"
      ]
     },
     "execution_count": 8,
     "metadata": {},
     "output_type": "execute_result"
    },
    {
     "data": {
      "text/plain": [
       "<matplotlib.axes._subplots.AxesSubplot at 0x11e3a97b8>"
      ]
     },
     "execution_count": 8,
     "metadata": {},
     "output_type": "execute_result"
    },
    {
     "data": {
      "text/plain": [
       "<matplotlib.image.AxesImage at 0x1a25267ef0>"
      ]
     },
     "execution_count": 8,
     "metadata": {},
     "output_type": "execute_result"
    },
    {
     "data": {
      "text/plain": [
       "(-0.5, 27.5, 27.5, -0.5)"
      ]
     },
     "execution_count": 8,
     "metadata": {},
     "output_type": "execute_result"
    },
    {
     "data": {
      "text/plain": [
       "<matplotlib.axes._subplots.AxesSubplot at 0x1a25267e10>"
      ]
     },
     "execution_count": 8,
     "metadata": {},
     "output_type": "execute_result"
    },
    {
     "data": {
      "text/plain": [
       "<matplotlib.image.AxesImage at 0x1a25295668>"
      ]
     },
     "execution_count": 8,
     "metadata": {},
     "output_type": "execute_result"
    },
    {
     "data": {
      "text/plain": [
       "(-0.5, 27.5, 27.5, -0.5)"
      ]
     },
     "execution_count": 8,
     "metadata": {},
     "output_type": "execute_result"
    },
    {
     "data": {
      "text/plain": [
       "<matplotlib.axes._subplots.AxesSubplot at 0x1a252959b0>"
      ]
     },
     "execution_count": 8,
     "metadata": {},
     "output_type": "execute_result"
    },
    {
     "data": {
      "text/plain": [
       "<matplotlib.image.AxesImage at 0x1a252bfe80>"
      ]
     },
     "execution_count": 8,
     "metadata": {},
     "output_type": "execute_result"
    },
    {
     "data": {
      "text/plain": [
       "(-0.5, 27.5, 27.5, -0.5)"
      ]
     },
     "execution_count": 8,
     "metadata": {},
     "output_type": "execute_result"
    },
    {
     "data": {
      "text/plain": [
       "<matplotlib.axes._subplots.AxesSubplot at 0x1a252959e8>"
      ]
     },
     "execution_count": 8,
     "metadata": {},
     "output_type": "execute_result"
    },
    {
     "data": {
      "text/plain": [
       "<matplotlib.image.AxesImage at 0x1a252f07b8>"
      ]
     },
     "execution_count": 8,
     "metadata": {},
     "output_type": "execute_result"
    },
    {
     "data": {
      "text/plain": [
       "(-0.5, 27.5, 27.5, -0.5)"
      ]
     },
     "execution_count": 8,
     "metadata": {},
     "output_type": "execute_result"
    },
    {
     "data": {
      "text/plain": [
       "<matplotlib.axes._subplots.AxesSubplot at 0x1a252f09e8>"
      ]
     },
     "execution_count": 8,
     "metadata": {},
     "output_type": "execute_result"
    },
    {
     "data": {
      "text/plain": [
       "<matplotlib.image.AxesImage at 0x1a25314ef0>"
      ]
     },
     "execution_count": 8,
     "metadata": {},
     "output_type": "execute_result"
    },
    {
     "data": {
      "text/plain": [
       "(-0.5, 27.5, 27.5, -0.5)"
      ]
     },
     "execution_count": 8,
     "metadata": {},
     "output_type": "execute_result"
    },
    {
     "data": {
      "text/plain": [
       "<matplotlib.axes._subplots.AxesSubplot at 0x1a25322320>"
      ]
     },
     "execution_count": 8,
     "metadata": {},
     "output_type": "execute_result"
    },
    {
     "data": {
      "text/plain": [
       "<matplotlib.image.AxesImage at 0x1a25345748>"
      ]
     },
     "execution_count": 8,
     "metadata": {},
     "output_type": "execute_result"
    },
    {
     "data": {
      "text/plain": [
       "(-0.5, 27.5, 27.5, -0.5)"
      ]
     },
     "execution_count": 8,
     "metadata": {},
     "output_type": "execute_result"
    },
    {
     "data": {
      "text/plain": [
       "<matplotlib.axes._subplots.AxesSubplot at 0x1a25345a90>"
      ]
     },
     "execution_count": 8,
     "metadata": {},
     "output_type": "execute_result"
    },
    {
     "data": {
      "text/plain": [
       "<matplotlib.image.AxesImage at 0x1a253b0f28>"
      ]
     },
     "execution_count": 8,
     "metadata": {},
     "output_type": "execute_result"
    },
    {
     "data": {
      "text/plain": [
       "(-0.5, 27.5, 27.5, -0.5)"
      ]
     },
     "execution_count": 8,
     "metadata": {},
     "output_type": "execute_result"
    },
    {
     "data": {
      "text/plain": [
       "<matplotlib.axes._subplots.AxesSubplot at 0x1a253bb3c8>"
      ]
     },
     "execution_count": 8,
     "metadata": {},
     "output_type": "execute_result"
    },
    {
     "data": {
      "text/plain": [
       "<matplotlib.image.AxesImage at 0x1a25821898>"
      ]
     },
     "execution_count": 8,
     "metadata": {},
     "output_type": "execute_result"
    },
    {
     "data": {
      "text/plain": [
       "(-0.5, 27.5, 27.5, -0.5)"
      ]
     },
     "execution_count": 8,
     "metadata": {},
     "output_type": "execute_result"
    },
    {
     "data": {
      "text/plain": [
       "<matplotlib.axes._subplots.AxesSubplot at 0x1a25821ba8>"
      ]
     },
     "execution_count": 8,
     "metadata": {},
     "output_type": "execute_result"
    },
    {
     "data": {
      "text/plain": [
       "<matplotlib.image.AxesImage at 0x1a25848f98>"
      ]
     },
     "execution_count": 8,
     "metadata": {},
     "output_type": "execute_result"
    },
    {
     "data": {
      "text/plain": [
       "(-0.5, 27.5, 27.5, -0.5)"
      ]
     },
     "execution_count": 8,
     "metadata": {},
     "output_type": "execute_result"
    },
    {
     "data": {
      "text/plain": [
       "<matplotlib.axes._subplots.AxesSubplot at 0x1a25853400>"
      ]
     },
     "execution_count": 8,
     "metadata": {},
     "output_type": "execute_result"
    },
    {
     "data": {
      "text/plain": [
       "<matplotlib.image.AxesImage at 0x1a25879898>"
      ]
     },
     "execution_count": 8,
     "metadata": {},
     "output_type": "execute_result"
    },
    {
     "data": {
      "text/plain": [
       "(-0.5, 27.5, 27.5, -0.5)"
      ]
     },
     "execution_count": 8,
     "metadata": {},
     "output_type": "execute_result"
    },
    {
     "data": {
      "text/plain": [
       "<matplotlib.axes._subplots.AxesSubplot at 0x1a258798d0>"
      ]
     },
     "execution_count": 8,
     "metadata": {},
     "output_type": "execute_result"
    },
    {
     "data": {
      "text/plain": [
       "<matplotlib.image.AxesImage at 0x1a258ac080>"
      ]
     },
     "execution_count": 8,
     "metadata": {},
     "output_type": "execute_result"
    },
    {
     "data": {
      "text/plain": [
       "(-0.5, 27.5, 27.5, -0.5)"
      ]
     },
     "execution_count": 8,
     "metadata": {},
     "output_type": "execute_result"
    },
    {
     "data": {
      "text/plain": [
       "<matplotlib.axes._subplots.AxesSubplot at 0x1a258ac128>"
      ]
     },
     "execution_count": 8,
     "metadata": {},
     "output_type": "execute_result"
    },
    {
     "data": {
      "text/plain": [
       "<matplotlib.image.AxesImage at 0x1a258d0978>"
      ]
     },
     "execution_count": 8,
     "metadata": {},
     "output_type": "execute_result"
    },
    {
     "data": {
      "text/plain": [
       "(-0.5, 27.5, 27.5, -0.5)"
      ]
     },
     "execution_count": 8,
     "metadata": {},
     "output_type": "execute_result"
    },
    {
     "data": {
      "text/plain": [
       "<matplotlib.axes._subplots.AxesSubplot at 0x1a258d0dd8>"
      ]
     },
     "execution_count": 8,
     "metadata": {},
     "output_type": "execute_result"
    },
    {
     "data": {
      "text/plain": [
       "<matplotlib.image.AxesImage at 0x1a259040f0>"
      ]
     },
     "execution_count": 8,
     "metadata": {},
     "output_type": "execute_result"
    },
    {
     "data": {
      "text/plain": [
       "(-0.5, 27.5, 27.5, -0.5)"
      ]
     },
     "execution_count": 8,
     "metadata": {},
     "output_type": "execute_result"
    },
    {
     "data": {
      "text/plain": [
       "<matplotlib.axes._subplots.AxesSubplot at 0x1a259043c8>"
      ]
     },
     "execution_count": 8,
     "metadata": {},
     "output_type": "execute_result"
    },
    {
     "data": {
      "text/plain": [
       "<matplotlib.image.AxesImage at 0x1a25929908>"
      ]
     },
     "execution_count": 8,
     "metadata": {},
     "output_type": "execute_result"
    },
    {
     "data": {
      "text/plain": [
       "(-0.5, 27.5, 27.5, -0.5)"
      ]
     },
     "execution_count": 8,
     "metadata": {},
     "output_type": "execute_result"
    },
    {
     "data": {
      "text/plain": [
       "<matplotlib.axes._subplots.AxesSubplot at 0x1a25929c88>"
      ]
     },
     "execution_count": 8,
     "metadata": {},
     "output_type": "execute_result"
    },
    {
     "data": {
      "text/plain": [
       "<matplotlib.image.AxesImage at 0x1a25959208>"
      ]
     },
     "execution_count": 8,
     "metadata": {},
     "output_type": "execute_result"
    },
    {
     "data": {
      "text/plain": [
       "(-0.5, 27.5, 27.5, -0.5)"
      ]
     },
     "execution_count": 8,
     "metadata": {},
     "output_type": "execute_result"
    },
    {
     "data": {
      "text/plain": [
       "<matplotlib.axes._subplots.AxesSubplot at 0x1a25959550>"
      ]
     },
     "execution_count": 8,
     "metadata": {},
     "output_type": "execute_result"
    },
    {
     "data": {
      "text/plain": [
       "<matplotlib.image.AxesImage at 0x1a25983978>"
      ]
     },
     "execution_count": 8,
     "metadata": {},
     "output_type": "execute_result"
    },
    {
     "data": {
      "text/plain": [
       "(-0.5, 27.5, 27.5, -0.5)"
      ]
     },
     "execution_count": 8,
     "metadata": {},
     "output_type": "execute_result"
    },
    {
     "data": {
      "text/plain": [
       "<matplotlib.axes._subplots.AxesSubplot at 0x1a25983d68>"
      ]
     },
     "execution_count": 8,
     "metadata": {},
     "output_type": "execute_result"
    },
    {
     "data": {
      "text/plain": [
       "<matplotlib.image.AxesImage at 0x1a259b22b0>"
      ]
     },
     "execution_count": 8,
     "metadata": {},
     "output_type": "execute_result"
    },
    {
     "data": {
      "text/plain": [
       "(-0.5, 27.5, 27.5, -0.5)"
      ]
     },
     "execution_count": 8,
     "metadata": {},
     "output_type": "execute_result"
    },
    {
     "data": {
      "image/png": "[encoded data removed]",
      "text/plain": [
       "<Figure size 1080x360 with 30 Axes>"
      ]
     },
     "metadata": {
      "needs_background": "light"
     },
     "output_type": "display_data"
    }
   ],
   "source": [
    "# preview some images\n",
    "plt.figure(figsize=(15,5))\n",
    "for i in range(30):  \n",
    "    plt.subplot(3, 10, i+1)\n",
    "    plt.imshow(x_train[i].reshape((28,28)),cmap=plt.cm.binary)\n",
    "    plt.axis('off')"
   ]
  },
  {
   "cell_type": "code",
   "execution_count": 9,
   "metadata": {},
   "outputs": [],
   "source": [
    "# preparing training and testing data for model validation\n",
    "X_train, X_val, Y_train, Y_val = train_test_split(x_train, y_train, test_size = 0.1)"
   ]
  },
  {
   "cell_type": "code",
   "execution_count": 10,
   "metadata": {},
   "outputs": [],
   "source": [
    "# create cnn model architecture\n",
    "def cnn_model(optimizer = 'Adam', pool_size = 2, dropout = 0.3, activation = 'relu'):\n",
    "    \n",
    "    model = Sequential()\n",
    "    model.add(Conv2D(filters=16, kernel_size=3, activation=activation, input_shape=(28,28,1)))\n",
    "    model.add(BatchNormalization())\n",
    "    model.add(Conv2D(16, (3, 3), activation=activation))\n",
    "    model.add(BatchNormalization())\n",
    "    model.add(MaxPooling2D(pool_size=(pool_size, pool_size)))\n",
    "    model.add(Dropout(dropout))\n",
    "\n",
    "    model.add(Conv2D(filters=32, kernel_size=3, activation=activation))\n",
    "    model.add(BatchNormalization())\n",
    "    model.add(Conv2D(32, 3, activation=activation))\n",
    "    model.add(BatchNormalization())\n",
    "    model.add(MaxPooling2D(pool_size=(pool_size, pool_size)))\n",
    "    model.add(Dropout(dropout))\n",
    "\n",
    "    model.add(Conv2D(filters=64, kernel_size=3, activation=activation))\n",
    "    model.add(BatchNormalization())\n",
    "    model.add(Conv2D(64, 3, padding = 'same', activation=activation))\n",
    "    model.add(BatchNormalization())\n",
    "    model.add(MaxPooling2D(pool_size=(pool_size, pool_size)))\n",
    "    model.add(Dropout(dropout))\n",
    "\n",
    "    model.add(Flatten())\n",
    "    model.add(Dense(128, activation=activation)) \n",
    "    model.add(Dropout(dropout))\n",
    "    model.add(Dense(512, activation=activation))\n",
    "    model.add(Dropout(0.5))\n",
    "    model.add(Dense(num_classes, activation='softmax'))\n",
    "    model.compile(loss=keras.losses.categorical_crossentropy,optimizer=optimizer,metrics=['accuracy'])\n",
    "    return model"
   ]
  },
  {
   "cell_type": "code",
   "execution_count": 9,
   "metadata": {
    "scrolled": true
   },
   "outputs": [
    {
     "name": "stdout",
     "output_type": "stream",
     "text": [
      "Fitting 3 folds for each of 7 candidates, totalling 21 fits\n"
     ]
    },
    {
     "name": "stderr",
     "output_type": "stream",
     "text": [
      "/Users/Sybil/anaconda3/lib/python3.7/site-packages/sklearn/model_selection/_split.py:2053: FutureWarning: You should specify a value for 'cv' instead of relying on the default value. The default value will change from 3 to 5 in version 0.22.\n",
      "  warnings.warn(CV_WARNING, FutureWarning)\n",
      "[Parallel(n_jobs=-1)]: Using backend LokyBackend with 4 concurrent workers.\n",
      "[Parallel(n_jobs=-1)]: Done  21 out of  21 | elapsed: 343.3min finished\n"
     ]
    },
    {
     "name": "stdout",
     "output_type": "stream",
     "text": [
      "WARNING:tensorflow:From /Users/Sybil/anaconda3/lib/python3.7/site-packages/tensorflow/python/framework/op_def_library.py:263: colocate_with (from tensorflow.python.framework.ops) is deprecated and will be removed in a future version.\n",
      "Instructions for updating:\n",
      "Colocations handled automatically by placer.\n",
      "WARNING:tensorflow:From /Users/Sybil/anaconda3/lib/python3.7/site-packages/keras/backend/tensorflow_backend.py:3445: calling dropout (from tensorflow.python.ops.nn_ops) with keep_prob is deprecated and will be removed in a future version.\n",
      "Instructions for updating:\n",
      "Please use `rate` instead of `keep_prob`. Rate should be set to `rate = 1 - keep_prob`.\n",
      "WARNING:tensorflow:From /Users/Sybil/anaconda3/lib/python3.7/site-packages/tensorflow/python/ops/math_ops.py:3066: to_int32 (from tensorflow.python.ops.math_ops) is deprecated and will be removed in a future version.\n",
      "Instructions for updating:\n",
      "Use tf.cast instead.\n",
      "Epoch 1/20\n",
      "37800/37800 [==============================] - 106s 3ms/step - loss: 0.6795 - acc: 0.7730\n",
      "Epoch 2/20\n",
      "37800/37800 [==============================] - 103s 3ms/step - loss: 0.1532 - acc: 0.9547\n",
      "Epoch 3/20\n",
      "37800/37800 [==============================] - 103s 3ms/step - loss: 0.1076 - acc: 0.9692\n",
      "Epoch 4/20\n",
      "37800/37800 [==============================] - 100s 3ms/step - loss: 0.0810 - acc: 0.9770\n",
      "Epoch 5/20\n",
      "37800/37800 [==============================] - 104s 3ms/step - loss: 0.0698 - acc: 0.9807\n",
      "Epoch 6/20\n",
      "37800/37800 [==============================] - 103s 3ms/step - loss: 0.0631 - acc: 0.9820\n",
      "Epoch 7/20\n",
      "37800/37800 [==============================] - 103s 3ms/step - loss: 0.0557 - acc: 0.9840\n",
      "Epoch 8/20\n",
      "37800/37800 [==============================] - 101s 3ms/step - loss: 0.0533 - acc: 0.9851\n",
      "Epoch 9/20\n",
      "37800/37800 [==============================] - 104s 3ms/step - loss: 0.0495 - acc: 0.9859\n",
      "Epoch 10/20\n",
      "37800/37800 [==============================] - 104s 3ms/step - loss: 0.0462 - acc: 0.9867\n",
      "Epoch 11/20\n",
      "37800/37800 [==============================] - 103s 3ms/step - loss: 0.0439 - acc: 0.9878\n",
      "Epoch 12/20\n",
      "37800/37800 [==============================] - 100s 3ms/step - loss: 0.0403 - acc: 0.9886\n",
      "Epoch 13/20\n",
      "37800/37800 [==============================] - 104s 3ms/step - loss: 0.0405 - acc: 0.9884\n",
      "Epoch 14/20\n",
      "37800/37800 [==============================] - 103s 3ms/step - loss: 0.0359 - acc: 0.9895\n",
      "Epoch 15/20\n",
      "37800/37800 [==============================] - 103s 3ms/step - loss: 0.0348 - acc: 0.9901\n",
      "Epoch 16/20\n",
      "37800/37800 [==============================] - 100s 3ms/step - loss: 0.0352 - acc: 0.9900\n",
      "Epoch 17/20\n",
      "37800/37800 [==============================] - 104s 3ms/step - loss: 0.0353 - acc: 0.9903\n",
      "Epoch 18/20\n",
      "37800/37800 [==============================] - 103s 3ms/step - loss: 0.0302 - acc: 0.9911\n",
      "Epoch 19/20\n",
      "37800/37800 [==============================] - 119s 3ms/step - loss: 0.0303 - acc: 0.9912\n",
      "Epoch 20/20\n",
      "37800/37800 [==============================] - 117s 3ms/step - loss: 0.0301 - acc: 0.9910\n"
     ]
    }
   ],
   "source": [
    "# choosing optimization algorithms\n",
    "batch_size = 128\n",
    "epochs = 20\n",
    "num_classes = 10\n",
    "optimizer = 'Adam'\n",
    "pool_size = 2\n",
    "dropout = 0.3\n",
    "activation = 'relu'\n",
    "\n",
    "clf = KerasClassifier(build_fn=cnn_model, batch_size=batch_size, epochs=epochs, \\\n",
    "                      verbose=1,optimizer=optimizer,pool_size=pool_size,dropout=dropout,activation=activation)\n",
    "\n",
    "optimizer = ['SGD', 'RMSprop', 'Adagrad', 'Adadelta', 'Adam', 'Adamax', 'Nadam']\n",
    "\n",
    "param_grid = dict(optimizer=optimizer)\n",
    "grid = GridSearchCV(estimator=clf, param_grid=param_grid, n_jobs=-1, verbose=1)\n",
    "grid_result = grid.fit(X_train, Y_train)"
   ]
  },
  {
   "cell_type": "code",
   "execution_count": 10,
   "metadata": {
    "scrolled": true
   },
   "outputs": [
    {
     "name": "stdout",
     "output_type": "stream",
     "text": [
      "Best: 0.991296 using {'optimizer': 'Adam'}\n",
      "0.985767 (0.000714) with: {'optimizer': 'SGD'}\n",
      "0.990582 (0.001673) with: {'optimizer': 'RMSprop'}\n",
      "0.990476 (0.000405) with: {'optimizer': 'Adagrad'}\n",
      "0.991085 (0.000491) with: {'optimizer': 'Adadelta'}\n",
      "0.991296 (0.000944) with: {'optimizer': 'Adam'}\n",
      "0.991138 (0.001722) with: {'optimizer': 'Adamax'}\n",
      "0.990185 (0.000551) with: {'optimizer': 'Nadam'}\n"
     ]
    }
   ],
   "source": [
    "# summarize results\n",
    "print(\"Best: %f using %s\" % (grid_result.best_score_, grid_result.best_params_))\n",
    "means = grid_result.cv_results_['mean_test_score']\n",
    "stds = grid_result.cv_results_['std_test_score']\n",
    "params = grid_result.cv_results_['params']\n",
    "for mean, stdev, param in zip(means, stds, params):\n",
    "    print(\"%f (%f) with: %r\" % (mean, stdev, param))"
   ]
  },
  {
   "cell_type": "code",
   "execution_count": 28,
   "metadata": {},
   "outputs": [
    {
     "name": "stdout",
     "output_type": "stream",
     "text": [
      "Fitting 3 folds for each of 2 candidates, totalling 6 fits\n"
     ]
    },
    {
     "name": "stderr",
     "output_type": "stream",
     "text": [
      "[Parallel(n_jobs=-1)]: Using backend LokyBackend with 4 concurrent workers.\n",
      "[Parallel(n_jobs=-1)]: Done   6 out of   6 | elapsed: 237.4min remaining:    0.0s\n",
      "[Parallel(n_jobs=-1)]: Done   6 out of   6 | elapsed: 237.4min finished\n"
     ]
    },
    {
     "name": "stdout",
     "output_type": "stream",
     "text": [
      "Epoch 1/20\n",
      "37800/37800 [==============================] - 84s 2ms/step - loss: 0.6599 - acc: 0.7795\n",
      "Epoch 2/20\n",
      "37800/37800 [==============================] - 80s 2ms/step - loss: 0.1380 - acc: 0.9601\n",
      "Epoch 3/20\n",
      "37800/37800 [==============================] - 81s 2ms/step - loss: 0.0975 - acc: 0.9717\n",
      "Epoch 4/20\n",
      "37800/37800 [==============================] - 79s 2ms/step - loss: 0.0773 - acc: 0.9783\n",
      "Epoch 5/20\n",
      "37800/37800 [==============================] - 86s 2ms/step - loss: 0.0700 - acc: 0.9804\n",
      "Epoch 6/20\n",
      "37800/37800 [==============================] - 75s 2ms/step - loss: 0.0577 - acc: 0.9837\n",
      "Epoch 7/20\n",
      "37800/37800 [==============================] - 75s 2ms/step - loss: 0.0569 - acc: 0.9842\n",
      "Epoch 8/20\n",
      "37800/37800 [==============================] - 75s 2ms/step - loss: 0.0493 - acc: 0.9858\n",
      "Epoch 9/20\n",
      "37800/37800 [==============================] - 75s 2ms/step - loss: 0.0452 - acc: 0.9867\n",
      "Epoch 10/20\n",
      "37800/37800 [==============================] - 76s 2ms/step - loss: 0.0443 - acc: 0.9877\n",
      "Epoch 11/20\n",
      "37800/37800 [==============================] - 76s 2ms/step - loss: 0.0422 - acc: 0.9878\n",
      "Epoch 12/20\n",
      "37800/37800 [==============================] - 76s 2ms/step - loss: 0.0405 - acc: 0.9885\n",
      "Epoch 13/20\n",
      "37800/37800 [==============================] - 76s 2ms/step - loss: 0.0384 - acc: 0.9893\n",
      "Epoch 14/20\n",
      "37800/37800 [==============================] - 76s 2ms/step - loss: 0.0344 - acc: 0.9902\n",
      "Epoch 15/20\n",
      "37800/37800 [==============================] - 76s 2ms/step - loss: 0.0353 - acc: 0.9902\n",
      "Epoch 16/20\n",
      "37800/37800 [==============================] - 76s 2ms/step - loss: 0.0317 - acc: 0.9906\n",
      "Epoch 17/20\n",
      "37800/37800 [==============================] - 76s 2ms/step - loss: 0.0331 - acc: 0.9908\n",
      "Epoch 18/20\n",
      "37800/37800 [==============================] - 76s 2ms/step - loss: 0.0307 - acc: 0.9915\n",
      "Epoch 19/20\n",
      "37800/37800 [==============================] - 77s 2ms/step - loss: 0.0275 - acc: 0.9923\n",
      "Epoch 20/20\n",
      "37800/37800 [==============================] - 76s 2ms/step - loss: 0.0286 - acc: 0.9919\n"
     ]
    }
   ],
   "source": [
    "# tuning pool size\n",
    "batch_size = 128\n",
    "epochs = 20\n",
    "num_classes = 10\n",
    "optimizer = \"Adam\"\n",
    "pool_size = 2\n",
    "activation = 'relu'\n",
    "\n",
    "clf = KerasClassifier(build_fn=cnn_model, batch_size=batch_size, epochs=epochs, \\\n",
    "                      verbose=1,optimizer=optimizer,pool_size=pool_size,activation=activation)\n",
    "\n",
    "pool_size = [1,2]\n",
    "\n",
    "param_grid = dict(pool_size=pool_size)\n",
    "grid = GridSearchCV(estimator=clf, param_grid=param_grid, n_jobs=-1, verbose=1)\n",
    "grid_result = grid.fit(X_train, Y_train)"
   ]
  },
  {
   "cell_type": "code",
   "execution_count": 29,
   "metadata": {
    "scrolled": true
   },
   "outputs": [
    {
     "name": "stdout",
     "output_type": "stream",
     "text": [
      "Best: 0.989762 using {'pool_size': 2}\n",
      "0.986852 (0.002669) with: {'pool_size': 1}\n",
      "0.989762 (0.001557) with: {'pool_size': 2}\n"
     ]
    }
   ],
   "source": [
    "# summarize results\n",
    "print(\"Best: %f using %s\" % (grid_result.best_score_, grid_result.best_params_))\n",
    "means = grid_result.cv_results_['mean_test_score']\n",
    "stds = grid_result.cv_results_['std_test_score']\n",
    "params = grid_result.cv_results_['params']\n",
    "for mean, stdev, param in zip(means, stds, params):\n",
    "    print(\"%f (%f) with: %r\" % (mean, stdev, param))"
   ]
  },
  {
   "cell_type": "code",
   "execution_count": 12,
   "metadata": {},
   "outputs": [
    {
     "name": "stdout",
     "output_type": "stream",
     "text": [
      "Fitting 3 folds for each of 5 candidates, totalling 15 fits\n"
     ]
    },
    {
     "name": "stderr",
     "output_type": "stream",
     "text": [
      "/Users/Sybil/anaconda3/lib/python3.7/site-packages/sklearn/model_selection/_split.py:2053: FutureWarning: You should specify a value for 'cv' instead of relying on the default value. The default value will change from 3 to 5 in version 0.22.\n",
      "  warnings.warn(CV_WARNING, FutureWarning)\n",
      "[Parallel(n_jobs=-1)]: Using backend LokyBackend with 4 concurrent workers.\n"
     ]
    },
    {
     "name": "stdout",
     "output_type": "stream",
     "text": [
      "WARNING:tensorflow:From /Users/Sybil/anaconda3/lib/python3.7/site-packages/tensorflow/python/framework/op_def_library.py:263: colocate_with (from tensorflow.python.framework.ops) is deprecated and will be removed in a future version.\n",
      "Instructions for updating:\n",
      "Colocations handled automatically by placer.\n"
     ]
    },
    {
     "name": "stderr",
     "output_type": "stream",
     "text": [
      "[Parallel(n_jobs=-1)]: Done  15 out of  15 | elapsed: 176.5min finished\n"
     ]
    },
    {
     "name": "stdout",
     "output_type": "stream",
     "text": [
      "WARNING:tensorflow:From /Users/Sybil/anaconda3/lib/python3.7/site-packages/keras/backend/tensorflow_backend.py:3445: calling dropout (from tensorflow.python.ops.nn_ops) with keep_prob is deprecated and will be removed in a future version.\n",
      "Instructions for updating:\n",
      "Please use `rate` instead of `keep_prob`. Rate should be set to `rate = 1 - keep_prob`.\n",
      "WARNING:tensorflow:From /Users/Sybil/anaconda3/lib/python3.7/site-packages/tensorflow/python/ops/math_ops.py:3066: to_int32 (from tensorflow.python.ops.math_ops) is deprecated and will be removed in a future version.\n",
      "Instructions for updating:\n",
      "Use tf.cast instead.\n",
      "Epoch 1/20\n",
      "37800/37800 [==============================] - 74s 2ms/step - loss: 0.6541 - acc: 0.7806\n",
      "Epoch 2/20\n",
      "37800/37800 [==============================] - 73s 2ms/step - loss: 0.1380 - acc: 0.9613\n",
      "Epoch 3/20\n",
      "37800/37800 [==============================] - 73s 2ms/step - loss: 0.0996 - acc: 0.9722\n",
      "Epoch 4/20\n",
      "37800/37800 [==============================] - 72s 2ms/step - loss: 0.0858 - acc: 0.9764\n",
      "Epoch 5/20\n",
      "37800/37800 [==============================] - 72s 2ms/step - loss: 0.0690 - acc: 0.9807\n",
      "Epoch 6/20\n",
      "37800/37800 [==============================] - 73s 2ms/step - loss: 0.0619 - acc: 0.9826\n",
      "Epoch 7/20\n",
      "37800/37800 [==============================] - 73s 2ms/step - loss: 0.0577 - acc: 0.9838\n",
      "Epoch 8/20\n",
      "37800/37800 [==============================] - 73s 2ms/step - loss: 0.0483 - acc: 0.9860\n",
      "Epoch 9/20\n",
      "37800/37800 [==============================] - 72s 2ms/step - loss: 0.0499 - acc: 0.9863\n",
      "Epoch 10/20\n",
      "37800/37800 [==============================] - 73s 2ms/step - loss: 0.0465 - acc: 0.9872\n",
      "Epoch 11/20\n",
      "37800/37800 [==============================] - 73s 2ms/step - loss: 0.0442 - acc: 0.9878\n",
      "Epoch 12/20\n",
      "37800/37800 [==============================] - 72s 2ms/step - loss: 0.0421 - acc: 0.9884\n",
      "Epoch 13/20\n",
      "37800/37800 [==============================] - 73s 2ms/step - loss: 0.0391 - acc: 0.9889\n",
      "Epoch 14/20\n",
      "37800/37800 [==============================] - 73s 2ms/step - loss: 0.0395 - acc: 0.9891\n",
      "Epoch 15/20\n",
      "37800/37800 [==============================] - 73s 2ms/step - loss: 0.0371 - acc: 0.9899\n",
      "Epoch 16/20\n",
      "37800/37800 [==============================] - 72s 2ms/step - loss: 0.0365 - acc: 0.9896\n",
      "Epoch 17/20\n",
      "37800/37800 [==============================] - 72s 2ms/step - loss: 0.0319 - acc: 0.9907\n",
      "Epoch 18/20\n",
      "37800/37800 [==============================] - 72s 2ms/step - loss: 0.0323 - acc: 0.9905\n",
      "Epoch 19/20\n",
      "37800/37800 [==============================] - 73s 2ms/step - loss: 0.0336 - acc: 0.9909\n",
      "Epoch 20/20\n",
      "37800/37800 [==============================] - 72s 2ms/step - loss: 0.0312 - acc: 0.9907\n"
     ]
    }
   ],
   "source": [
    "# tuning dropout\n",
    "batch_size = 128\n",
    "epochs = 20\n",
    "num_classes = 10\n",
    "optimizer = 'Adam'\n",
    "pool_size = 2\n",
    "dropout = 0.3\n",
    "activation = 'relu'\n",
    "\n",
    "clf = KerasClassifier(build_fn=cnn_model, batch_size=batch_size, epochs=epochs, \\\n",
    "                      verbose=1,optimizer=optimizer,pool_size=pool_size,dropout=dropout,activation=activation)\n",
    "\n",
    "dropout = [0.1, 0.2, 0.3, 0.4, 0.5]\n",
    "\n",
    "param_grid = dict(dropout = dropout)\n",
    "grid = GridSearchCV(estimator=clf, param_grid=param_grid, n_jobs=-1, verbose=1)\n",
    "grid_result = grid.fit(X_train, Y_train)"
   ]
  },
  {
   "cell_type": "code",
   "execution_count": 13,
   "metadata": {
    "scrolled": false
   },
   "outputs": [
    {
     "name": "stdout",
     "output_type": "stream",
     "text": [
      "Best: 0.990794 using {'dropout': 0.3}\n",
      "0.988968 (0.001265) with: {'dropout': 0.1}\n",
      "0.989921 (0.000877) with: {'dropout': 0.2}\n",
      "0.990794 (0.001139) with: {'dropout': 0.3}\n",
      "0.989286 (0.002103) with: {'dropout': 0.4}\n",
      "0.990423 (0.000699) with: {'dropout': 0.5}\n"
     ]
    }
   ],
   "source": [
    "# summarize results\n",
    "print(\"Best: %f using %s\" % (grid_result.best_score_, grid_result.best_params_))\n",
    "means = grid_result.cv_results_['mean_test_score']\n",
    "stds = grid_result.cv_results_['std_test_score']\n",
    "params = grid_result.cv_results_['params']\n",
    "for mean, stdev, param in zip(means, stds, params):\n",
    "    print(\"%f (%f) with: %r\" % (mean, stdev, param))"
   ]
  },
  {
   "cell_type": "code",
   "execution_count": 68,
   "metadata": {},
   "outputs": [
    {
     "name": "stdout",
     "output_type": "stream",
     "text": [
      "Fitting 3 folds for each of 2 candidates, totalling 6 fits\n"
     ]
    },
    {
     "name": "stderr",
     "output_type": "stream",
     "text": [
      "/Users/Sybil/anaconda3/lib/python3.7/site-packages/sklearn/model_selection/_split.py:2053: FutureWarning: You should specify a value for 'cv' instead of relying on the default value. The default value will change from 3 to 5 in version 0.22.\n",
      "  warnings.warn(CV_WARNING, FutureWarning)\n",
      "[Parallel(n_jobs=-1)]: Using backend LokyBackend with 4 concurrent workers.\n",
      "[Parallel(n_jobs=-1)]: Done   6 out of   6 | elapsed: 41.6min remaining:    0.0s\n",
      "[Parallel(n_jobs=-1)]: Done   6 out of   6 | elapsed: 41.6min finished\n"
     ]
    },
    {
     "name": "stdout",
     "output_type": "stream",
     "text": [
      "Epoch 1/10\n",
      "37800/37800 [==============================] - 90s 2ms/step - loss: 0.5707 - acc: 0.8119\n",
      "Epoch 2/10\n",
      "37800/37800 [==============================] - 85s 2ms/step - loss: 0.1293 - acc: 0.9625\n",
      "Epoch 3/10\n",
      "37800/37800 [==============================] - 85s 2ms/step - loss: 0.0887 - acc: 0.9743\n",
      "Epoch 4/10\n",
      "37800/37800 [==============================] - 84s 2ms/step - loss: 0.0745 - acc: 0.9781\n",
      "Epoch 5/10\n",
      "37800/37800 [==============================] - 82s 2ms/step - loss: 0.0660 - acc: 0.9810\n",
      "Epoch 6/10\n",
      "37800/37800 [==============================] - 83s 2ms/step - loss: 0.0566 - acc: 0.9836\n",
      "Epoch 7/10\n",
      "37800/37800 [==============================] - 83s 2ms/step - loss: 0.0547 - acc: 0.9840\n",
      "Epoch 8/10\n",
      "37800/37800 [==============================] - 83s 2ms/step - loss: 0.0457 - acc: 0.9858\n",
      "Epoch 9/10\n",
      "37800/37800 [==============================] - 83s 2ms/step - loss: 0.0424 - acc: 0.9878\n",
      "Epoch 10/10\n",
      "37800/37800 [==============================] - 83s 2ms/step - loss: 0.0443 - acc: 0.9871\n"
     ]
    }
   ],
   "source": [
    "# tune activation function\n",
    "batch_size = 128\n",
    "epochs = 10\n",
    "num_classes = 10\n",
    "optimizer = 'Adam'\n",
    "pool_size = 2\n",
    "dropout = 0.3\n",
    "activation = 'relu'\n",
    "\n",
    "clf = KerasClassifier(build_fn=cnn_model, batch_size=batch_size, epochs=epochs, \\\n",
    "                      verbose=1,optimizer=optimizer,pool_size=pool_size,dropout=dropout,activation=activation)\n",
    "\n",
    "activation = ['relu','softplus']\n",
    "\n",
    "param_grid = dict(activation = activation)\n",
    "grid = GridSearchCV(estimator=clf, param_grid=param_grid, n_jobs=-1, verbose=1)\n",
    "grid_result = grid.fit(X_train, Y_train)"
   ]
  },
  {
   "cell_type": "code",
   "execution_count": 69,
   "metadata": {
    "scrolled": true
   },
   "outputs": [
    {
     "name": "stdout",
     "output_type": "stream",
     "text": [
      "Best: 0.989603 using {'activation': 'softplus'}\n",
      "0.988095 (0.002185) with: {'activation': 'relu'}\n",
      "0.989603 (0.001430) with: {'activation': 'softplus'}\n"
     ]
    }
   ],
   "source": [
    "# summarize results\n",
    "print(\"Best: %f using %s\" % (grid_result.best_score_, grid_result.best_params_))\n",
    "means = grid_result.cv_results_['mean_test_score']\n",
    "stds = grid_result.cv_results_['std_test_score']\n",
    "params = grid_result.cv_results_['params']\n",
    "for mean, stdev, param in zip(means, stds, params):\n",
    "    print(\"%f (%f) with: %r\" % (mean, stdev, param))"
   ]
  },
  {
   "cell_type": "code",
   "execution_count": 63,
   "metadata": {},
   "outputs": [],
   "source": [
    "Y_train = keras.utils.to_categorical(Y_train, num_classes = 10)\n",
    "Y_val = keras.utils.to_categorical(Y_val, num_classes = 10)"
   ]
  },
  {
   "cell_type": "code",
   "execution_count": 114,
   "metadata": {
    "scrolled": true
   },
   "outputs": [
    {
     "name": "stdout",
     "output_type": "stream",
     "text": [
      "Train on 37800 samples, validate on 4200 samples\n",
      "Epoch 1/100\n",
      "37800/37800 [==============================] - 102s 3ms/step - loss: 0.6588 - acc: 0.7862 - val_loss: 0.0783 - val_acc: 0.9743\n",
      "Epoch 2/100\n",
      "37800/37800 [==============================] - 107s 3ms/step - loss: 0.1395 - acc: 0.9581 - val_loss: 0.0521 - val_acc: 0.9831\n",
      "Epoch 3/100\n",
      "37800/37800 [==============================] - 112s 3ms/step - loss: 0.1000 - acc: 0.9707 - val_loss: 0.0263 - val_acc: 0.9907\n",
      "Epoch 4/100\n",
      "37800/37800 [==============================] - 120s 3ms/step - loss: 0.0790 - acc: 0.9762 - val_loss: 0.0293 - val_acc: 0.9912\n",
      "Epoch 5/100\n",
      "37800/37800 [==============================] - 100s 3ms/step - loss: 0.0664 - acc: 0.9810 - val_loss: 0.0236 - val_acc: 0.9921\n",
      "Epoch 6/100\n",
      "37800/37800 [==============================] - 105s 3ms/step - loss: 0.0578 - acc: 0.9825 - val_loss: 0.0217 - val_acc: 0.9936\n",
      "Epoch 7/100\n",
      "37800/37800 [==============================] - 94s 2ms/step - loss: 0.0550 - acc: 0.9835 - val_loss: 0.0186 - val_acc: 0.9943\n",
      "Epoch 8/100\n",
      "37800/37800 [==============================] - 103s 3ms/step - loss: 0.0474 - acc: 0.9866 - val_loss: 0.0284 - val_acc: 0.9926\n",
      "Epoch 9/100\n",
      "37800/37800 [==============================] - 118s 3ms/step - loss: 0.0474 - acc: 0.9862 - val_loss: 0.0259 - val_acc: 0.9926\n",
      "Epoch 10/100\n",
      "37800/37800 [==============================] - 99s 3ms/step - loss: 0.0467 - acc: 0.9869 - val_loss: 0.0153 - val_acc: 0.9960\n",
      "Epoch 11/100\n",
      "37800/37800 [==============================] - 109s 3ms/step - loss: 0.0403 - acc: 0.9885 - val_loss: 0.0187 - val_acc: 0.9940\n",
      "Epoch 12/100\n",
      "37800/37800 [==============================] - 106s 3ms/step - loss: 0.0416 - acc: 0.9875 - val_loss: 0.0206 - val_acc: 0.9945\n",
      "Epoch 13/100\n",
      "37800/37800 [==============================] - 104s 3ms/step - loss: 0.0359 - acc: 0.9897 - val_loss: 0.0188 - val_acc: 0.9931\n",
      "Epoch 14/100\n",
      "37800/37800 [==============================] - 102s 3ms/step - loss: 0.0338 - acc: 0.9907 - val_loss: 0.0186 - val_acc: 0.9938\n",
      "Epoch 15/100\n",
      "37800/37800 [==============================] - 106s 3ms/step - loss: 0.0326 - acc: 0.9910 - val_loss: 0.0206 - val_acc: 0.9936\n",
      "Epoch 16/100\n",
      "37800/37800 [==============================] - 98s 3ms/step - loss: 0.0336 - acc: 0.9903 - val_loss: 0.0230 - val_acc: 0.9938\n",
      "Epoch 17/100\n",
      "37800/37800 [==============================] - 102s 3ms/step - loss: 0.0313 - acc: 0.9909 - val_loss: 0.0179 - val_acc: 0.9950\n",
      "Epoch 18/100\n",
      "37800/37800 [==============================] - 97s 3ms/step - loss: 0.0272 - acc: 0.9919 - val_loss: 0.0193 - val_acc: 0.9948\n",
      "Epoch 19/100\n",
      "37800/37800 [==============================] - 100s 3ms/step - loss: 0.0308 - acc: 0.9910 - val_loss: 0.0176 - val_acc: 0.9950\n",
      "Epoch 20/100\n",
      "37800/37800 [==============================] - 100s 3ms/step - loss: 0.0295 - acc: 0.9916 - val_loss: 0.0198 - val_acc: 0.9948\n",
      "Epoch 21/100\n",
      "37800/37800 [==============================] - 94s 2ms/step - loss: 0.0247 - acc: 0.9926 - val_loss: 0.0188 - val_acc: 0.9943\n",
      "Epoch 22/100\n",
      "37800/37800 [==============================] - 97s 3ms/step - loss: 0.0280 - acc: 0.9924 - val_loss: 0.0181 - val_acc: 0.9960\n",
      "Epoch 23/100\n",
      "37800/37800 [==============================] - 98s 3ms/step - loss: 0.0269 - acc: 0.9923 - val_loss: 0.0207 - val_acc: 0.9945\n",
      "Epoch 24/100\n",
      "37800/37800 [==============================] - 98s 3ms/step - loss: 0.0254 - acc: 0.9929 - val_loss: 0.0227 - val_acc: 0.9945\n",
      "Epoch 25/100\n",
      "37800/37800 [==============================] - 101s 3ms/step - loss: 0.0237 - acc: 0.9933 - val_loss: 0.0241 - val_acc: 0.9955\n",
      "Epoch 26/100\n",
      "37800/37800 [==============================] - 101s 3ms/step - loss: 0.0203 - acc: 0.9937 - val_loss: 0.0193 - val_acc: 0.9948\n",
      "Epoch 27/100\n",
      "37800/37800 [==============================] - 99s 3ms/step - loss: 0.0223 - acc: 0.9932 - val_loss: 0.0179 - val_acc: 0.9960\n",
      "Epoch 28/100\n",
      "37800/37800 [==============================] - 100s 3ms/step - loss: 0.0230 - acc: 0.9932 - val_loss: 0.0289 - val_acc: 0.9931\n",
      "Epoch 29/100\n",
      "37800/37800 [==============================] - 101s 3ms/step - loss: 0.0230 - acc: 0.9934 - val_loss: 0.0213 - val_acc: 0.9967\n",
      "Epoch 30/100\n",
      "37800/37800 [==============================] - 98s 3ms/step - loss: 0.0210 - acc: 0.9939 - val_loss: 0.0203 - val_acc: 0.9952\n",
      "Epoch 31/100\n",
      "37800/37800 [==============================] - 99s 3ms/step - loss: 0.0189 - acc: 0.9947 - val_loss: 0.0224 - val_acc: 0.9938\n",
      "Epoch 32/100\n",
      "37800/37800 [==============================] - 98s 3ms/step - loss: 0.0182 - acc: 0.9942 - val_loss: 0.0227 - val_acc: 0.9952\n",
      "Epoch 33/100\n",
      "37800/37800 [==============================] - 98s 3ms/step - loss: 0.0217 - acc: 0.9937 - val_loss: 0.0193 - val_acc: 0.9955\n",
      "Epoch 34/100\n",
      "37800/37800 [==============================] - 105s 3ms/step - loss: 0.0199 - acc: 0.9939 - val_loss: 0.0233 - val_acc: 0.9948\n",
      "Epoch 35/100\n",
      "37800/37800 [==============================] - 96s 3ms/step - loss: 0.0190 - acc: 0.9947 - val_loss: 0.0189 - val_acc: 0.9952\n",
      "Epoch 36/100\n",
      "37800/37800 [==============================] - 99s 3ms/step - loss: 0.0188 - acc: 0.9942 - val_loss: 0.0228 - val_acc: 0.9943\n",
      "Epoch 37/100\n",
      "37800/37800 [==============================] - 102s 3ms/step - loss: 0.0187 - acc: 0.9945 - val_loss: 0.0178 - val_acc: 0.9955\n",
      "Epoch 38/100\n",
      "37800/37800 [==============================] - 100s 3ms/step - loss: 0.0177 - acc: 0.9952 - val_loss: 0.0185 - val_acc: 0.9962\n",
      "Epoch 39/100\n",
      "37800/37800 [==============================] - 98s 3ms/step - loss: 0.0181 - acc: 0.9947 - val_loss: 0.0203 - val_acc: 0.9952\n",
      "Epoch 40/100\n",
      "37800/37800 [==============================] - 96s 3ms/step - loss: 0.0188 - acc: 0.9944 - val_loss: 0.0218 - val_acc: 0.9952\n",
      "Epoch 41/100\n",
      "37800/37800 [==============================] - 97s 3ms/step - loss: 0.0160 - acc: 0.9956 - val_loss: 0.0218 - val_acc: 0.9948\n",
      "Epoch 42/100\n",
      "37800/37800 [==============================] - 96s 3ms/step - loss: 0.0171 - acc: 0.9950 - val_loss: 0.0219 - val_acc: 0.9929\n",
      "Epoch 43/100\n",
      "37800/37800 [==============================] - 107s 3ms/step - loss: 0.0158 - acc: 0.9951 - val_loss: 0.0221 - val_acc: 0.9945\n",
      "Epoch 44/100\n",
      "37800/37800 [==============================] - 97s 3ms/step - loss: 0.0158 - acc: 0.9950 - val_loss: 0.0222 - val_acc: 0.9955\n",
      "Epoch 45/100\n",
      "37800/37800 [==============================] - 96s 3ms/step - loss: 0.0153 - acc: 0.9957 - val_loss: 0.0231 - val_acc: 0.9948\n",
      "Epoch 46/100\n",
      "37800/37800 [==============================] - 99s 3ms/step - loss: 0.0187 - acc: 0.9948 - val_loss: 0.0223 - val_acc: 0.9945\n",
      "Epoch 47/100\n",
      "37800/37800 [==============================] - 100s 3ms/step - loss: 0.0153 - acc: 0.9955 - val_loss: 0.0148 - val_acc: 0.9964\n",
      "Epoch 48/100\n",
      "37800/37800 [==============================] - 101s 3ms/step - loss: 0.0137 - acc: 0.9957 - val_loss: 0.0182 - val_acc: 0.9955\n",
      "Epoch 49/100\n",
      "37800/37800 [==============================] - 98s 3ms/step - loss: 0.0142 - acc: 0.9961 - val_loss: 0.0273 - val_acc: 0.9950\n",
      "Epoch 50/100\n",
      "37800/37800 [==============================] - 99s 3ms/step - loss: 0.0168 - acc: 0.9949 - val_loss: 0.0212 - val_acc: 0.9960\n",
      "Epoch 51/100\n",
      "37800/37800 [==============================] - 97s 3ms/step - loss: 0.0136 - acc: 0.9961 - val_loss: 0.0213 - val_acc: 0.9957\n",
      "Epoch 52/100\n",
      "37800/37800 [==============================] - 102s 3ms/step - loss: 0.0160 - acc: 0.9954 - val_loss: 0.0190 - val_acc: 0.9952\n",
      "Epoch 53/100\n",
      "37800/37800 [==============================] - 95s 3ms/step - loss: 0.0142 - acc: 0.9963 - val_loss: 0.0197 - val_acc: 0.9957\n",
      "Epoch 54/100\n",
      "37800/37800 [==============================] - 102s 3ms/step - loss: 0.0140 - acc: 0.9958 - val_loss: 0.0178 - val_acc: 0.9967\n",
      "Epoch 55/100\n",
      "37800/37800 [==============================] - 104s 3ms/step - loss: 0.0137 - acc: 0.9961 - val_loss: 0.0159 - val_acc: 0.9960\n",
      "Epoch 56/100\n",
      "37800/37800 [==============================] - 98s 3ms/step - loss: 0.0154 - acc: 0.9957 - val_loss: 0.0191 - val_acc: 0.9955\n",
      "Epoch 57/100\n",
      "37800/37800 [==============================] - 99s 3ms/step - loss: 0.0170 - acc: 0.9953 - val_loss: 0.0244 - val_acc: 0.9952\n",
      "Epoch 58/100\n",
      "37800/37800 [==============================] - 99s 3ms/step - loss: 0.0139 - acc: 0.9958 - val_loss: 0.0189 - val_acc: 0.9962\n",
      "Epoch 59/100\n",
      "37800/37800 [==============================] - 94s 2ms/step - loss: 0.0124 - acc: 0.9962 - val_loss: 0.0215 - val_acc: 0.9957\n",
      "Epoch 60/100\n",
      "37800/37800 [==============================] - 112s 3ms/step - loss: 0.0124 - acc: 0.9961 - val_loss: 0.0189 - val_acc: 0.9957\n",
      "Epoch 61/100\n",
      "37800/37800 [==============================] - 107s 3ms/step - loss: 0.0128 - acc: 0.9958 - val_loss: 0.0211 - val_acc: 0.9962\n",
      "Epoch 62/100\n",
      "37800/37800 [==============================] - 101s 3ms/step - loss: 0.0140 - acc: 0.9960 - val_loss: 0.0172 - val_acc: 0.9957\n",
      "Epoch 63/100\n",
      "37800/37800 [==============================] - 98s 3ms/step - loss: 0.0107 - acc: 0.9971 - val_loss: 0.0197 - val_acc: 0.9960\n",
      "Epoch 64/100\n",
      "37800/37800 [==============================] - 105s 3ms/step - loss: 0.0128 - acc: 0.9960 - val_loss: 0.0209 - val_acc: 0.9960\n",
      "Epoch 65/100\n",
      "37800/37800 [==============================] - 103s 3ms/step - loss: 0.0099 - acc: 0.9969 - val_loss: 0.0206 - val_acc: 0.9957\n",
      "Epoch 66/100\n",
      "37800/37800 [==============================] - 114s 3ms/step - loss: 0.0103 - acc: 0.9972 - val_loss: 0.0286 - val_acc: 0.9950\n",
      "Epoch 67/100\n",
      "37800/37800 [==============================] - 104s 3ms/step - loss: 0.0131 - acc: 0.9959 - val_loss: 0.0215 - val_acc: 0.9957\n",
      "Epoch 68/100\n",
      "37800/37800 [==============================] - 106s 3ms/step - loss: 0.0117 - acc: 0.9966 - val_loss: 0.0226 - val_acc: 0.9950\n",
      "Epoch 69/100\n",
      "37800/37800 [==============================] - 105s 3ms/step - loss: 0.0112 - acc: 0.9966 - val_loss: 0.0201 - val_acc: 0.9952\n",
      "Epoch 70/100\n",
      "37800/37800 [==============================] - 120s 3ms/step - loss: 0.0134 - acc: 0.9964 - val_loss: 0.0262 - val_acc: 0.9955\n",
      "Epoch 71/100\n",
      "37800/37800 [==============================] - 96s 3ms/step - loss: 0.0147 - acc: 0.9961 - val_loss: 0.0195 - val_acc: 0.9962\n",
      "Epoch 72/100\n",
      "37800/37800 [==============================] - 101s 3ms/step - loss: 0.0128 - acc: 0.9965 - val_loss: 0.0213 - val_acc: 0.9957\n",
      "Epoch 73/100\n",
      "37800/37800 [==============================] - 112s 3ms/step - loss: 0.0121 - acc: 0.9967 - val_loss: 0.0187 - val_acc: 0.9964\n",
      "Epoch 74/100\n",
      "37800/37800 [==============================] - 115s 3ms/step - loss: 0.0115 - acc: 0.9966 - val_loss: 0.0186 - val_acc: 0.9955\n",
      "Epoch 75/100\n",
      "37800/37800 [==============================] - 114s 3ms/step - loss: 0.0123 - acc: 0.9967 - val_loss: 0.0265 - val_acc: 0.9940\n",
      "Epoch 76/100\n",
      "37800/37800 [==============================] - 107s 3ms/step - loss: 0.0098 - acc: 0.9968 - val_loss: 0.0214 - val_acc: 0.9955\n",
      "Epoch 77/100\n",
      "37800/37800 [==============================] - 103s 3ms/step - loss: 0.0121 - acc: 0.9965 - val_loss: 0.0223 - val_acc: 0.9957\n",
      "Epoch 78/100\n",
      "37800/37800 [==============================] - 112s 3ms/step - loss: 0.0119 - acc: 0.9963 - val_loss: 0.0189 - val_acc: 0.9962\n",
      "Epoch 79/100\n",
      "37800/37800 [==============================] - 103s 3ms/step - loss: 0.0110 - acc: 0.9971 - val_loss: 0.0191 - val_acc: 0.9964\n",
      "Epoch 80/100\n",
      "37800/37800 [==============================] - 114s 3ms/step - loss: 0.0103 - acc: 0.9969 - val_loss: 0.0157 - val_acc: 0.9974\n",
      "Epoch 81/100\n",
      "37800/37800 [==============================] - 106s 3ms/step - loss: 0.0110 - acc: 0.9966 - val_loss: 0.0208 - val_acc: 0.9957\n",
      "Epoch 82/100\n",
      "37800/37800 [==============================] - 107s 3ms/step - loss: 0.0139 - acc: 0.9961 - val_loss: 0.0173 - val_acc: 0.9955\n",
      "Epoch 83/100\n",
      "37800/37800 [==============================] - 94s 2ms/step - loss: 0.0107 - acc: 0.9970 - val_loss: 0.0232 - val_acc: 0.9945\n",
      "Epoch 84/100\n",
      "37800/37800 [==============================] - 88s 2ms/step - loss: 0.0105 - acc: 0.9969 - val_loss: 0.0169 - val_acc: 0.9962\n",
      "Epoch 85/100\n",
      "37800/37800 [==============================] - 87s 2ms/step - loss: 0.0111 - acc: 0.9970 - val_loss: 0.0172 - val_acc: 0.9957\n",
      "Epoch 86/100\n",
      "37800/37800 [==============================] - 90s 2ms/step - loss: 0.0099 - acc: 0.9970 - val_loss: 0.0172 - val_acc: 0.9971\n",
      "Epoch 87/100\n",
      "37800/37800 [==============================] - 88s 2ms/step - loss: 0.0102 - acc: 0.9971 - val_loss: 0.0281 - val_acc: 0.9950\n",
      "Epoch 88/100\n",
      "37800/37800 [==============================] - 101s 3ms/step - loss: 0.0104 - acc: 0.9971 - val_loss: 0.0192 - val_acc: 0.9962\n",
      "Epoch 89/100\n",
      "37800/37800 [==============================] - 97s 3ms/step - loss: 0.0089 - acc: 0.9974 - val_loss: 0.0214 - val_acc: 0.9957\n",
      "Epoch 90/100\n",
      "37800/37800 [==============================] - 89s 2ms/step - loss: 0.0110 - acc: 0.9969 - val_loss: 0.0204 - val_acc: 0.9964\n",
      "Epoch 91/100\n",
      "37800/37800 [==============================] - 93s 2ms/step - loss: 0.0104 - acc: 0.9970 - val_loss: 0.0193 - val_acc: 0.9971\n",
      "Epoch 92/100\n",
      "37800/37800 [==============================] - 88s 2ms/step - loss: 0.0090 - acc: 0.9975 - val_loss: 0.0242 - val_acc: 0.9960\n",
      "Epoch 93/100\n",
      "37800/37800 [==============================] - 89s 2ms/step - loss: 0.0104 - acc: 0.9971 - val_loss: 0.0217 - val_acc: 0.9964\n",
      "Epoch 94/100\n",
      "37800/37800 [==============================] - 88s 2ms/step - loss: 0.0116 - acc: 0.9965 - val_loss: 0.0283 - val_acc: 0.9952\n",
      "Epoch 95/100\n",
      "37800/37800 [==============================] - 88s 2ms/step - loss: 0.0091 - acc: 0.9970 - val_loss: 0.0280 - val_acc: 0.9936\n",
      "Epoch 96/100\n",
      "37800/37800 [==============================] - 88s 2ms/step - loss: 0.0081 - acc: 0.9974 - val_loss: 0.0264 - val_acc: 0.9962\n",
      "Epoch 97/100\n",
      "37800/37800 [==============================] - 88s 2ms/step - loss: 0.0103 - acc: 0.9972 - val_loss: 0.0199 - val_acc: 0.9957\n",
      "Epoch 98/100\n",
      "37800/37800 [==============================] - 88s 2ms/step - loss: 0.0088 - acc: 0.9975 - val_loss: 0.0276 - val_acc: 0.9943\n",
      "Epoch 99/100\n",
      "37800/37800 [==============================] - 97s 3ms/step - loss: 0.0089 - acc: 0.9971 - val_loss: 0.0227 - val_acc: 0.9964\n",
      "Epoch 100/100\n",
      "37800/37800 [==============================] - 91s 2ms/step - loss: 0.0088 - acc: 0.9973 - val_loss: 0.0192 - val_acc: 0.9957\n"
     ]
    }
   ],
   "source": [
    "# fit the final model  \n",
    "finalCNN = cnn_model(optimizer = 'Adam', pool_size = 2, dropout = 0.3, activation = 'softplus')\n",
    "\n",
    "CNN = finalCNN.fit(X_train, Y_train,\n",
    "          batch_size=128,\n",
    "          epochs=100,\n",
    "          verbose=1,\n",
    "          validation_data=(X_val, Y_val))"
   ]
  },
  {
   "cell_type": "code",
   "execution_count": 115,
   "metadata": {},
   "outputs": [
    {
     "data": {
      "image/png": "[encoded data removed]",
      "text/plain": [
       "<Figure size 432x288 with 1 Axes>"
      ]
     },
     "metadata": {
      "needs_background": "light"
     },
     "output_type": "display_data"
    },
    {
     "data": {
      "image/png": "[encoded data removed]",
      "text/plain": [
       "<Figure size 432x288 with 1 Axes>"
      ]
     },
     "metadata": {
      "needs_background": "light"
     },
     "output_type": "display_data"
    }
   ],
   "source": [
    "# plot the accuracy & loss vs epochs\n",
    "def plot_loss_accuracy(history):\n",
    "    plt.figure()\n",
    "    epochs = range(len(history.epoch))\n",
    "    plt.plot(epochs, history.history['acc'], 'r', linewidth=2.5)\n",
    "    plt.plot(epochs,history.history['val_acc'], 'b', linewidth=2.5)\n",
    "    plt.xlabel('Epochs ',fontsize=10)\n",
    "    plt.ylabel('Accuracy',fontsize=10)\n",
    "    plt.title('Accuracy Curves',fontsize=16)\n",
    "    plt.legend(['Training Accuracy', 'Validation Accuracy'],fontsize=15)\n",
    "    \n",
    "    plt.figure()\n",
    "    plt.plot(epochs, history.history['loss'], 'r', linewidth=2.5)\n",
    "    plt.plot(epochs,history.history['val_loss'], 'b', linewidth=2.5)\n",
    "    plt.xlabel('Epochs ',fontsize=10)\n",
    "    plt.ylabel('Loss',fontsize=10)\n",
    "    plt.title('Loss Curves',fontsize=16)\n",
    "    plt.legend(['Training Loss', 'Validation Loss'],fontsize=15)\n",
    "    \n",
    "    plt.show()\n",
    "    \n",
    "plot_loss_accuracy(CNN)"
   ]
  },
  {
   "cell_type": "code",
   "execution_count": 116,
   "metadata": {},
   "outputs": [
    {
     "name": "stdout",
     "output_type": "stream",
     "text": [
      "Val loss: 0.0191530133523534\n",
      "Val accuracy: 0.9957142857142857\n"
     ]
    }
   ],
   "source": [
    "# Evaluation\n",
    "score = finalCNN.evaluate(X_val, Y_val, verbose=0)\n",
    "print('Val loss:', score[0])\n",
    "print('Val accuracy:', score[1])"
   ]
  },
  {
   "cell_type": "code",
   "execution_count": 117,
   "metadata": {},
   "outputs": [
    {
     "data": {
      "text/plain": [
       "array([[428,   0,   0,   0,   0,   0,   0,   0,   0,   0],\n",
       "       [  0, 436,   0,   0,   0,   0,   0,   0,   1,   0],\n",
       "       [  0,   0, 419,   0,   0,   0,   0,   0,   1,   0],\n",
       "       [  0,   0,   0, 445,   0,   0,   0,   0,   1,   0],\n",
       "       [  0,   0,   0,   0, 378,   0,   1,   0,   0,   1],\n",
       "       [  0,   0,   0,   0,   0, 413,   0,   0,   1,   1],\n",
       "       [  0,   0,   1,   0,   1,   0, 435,   0,   0,   0],\n",
       "       [  0,   0,   0,   0,   0,   0,   0, 447,   1,   0],\n",
       "       [  0,   2,   1,   0,   0,   0,   1,   0, 387,   0],\n",
       "       [  2,   0,   0,   0,   2,   0,   0,   0,   0, 394]])"
      ]
     },
     "execution_count": 117,
     "metadata": {},
     "output_type": "execute_result"
    }
   ],
   "source": [
    "# confusion_matrix\n",
    "Y_model = finalCNN.predict(X_val)\n",
    "Y_pred = np.argmax(Y_model, axis=1)\n",
    "Y_true = np.argmax(Y_val, axis=1)\n",
    "confusion_matrix(Y_true, Y_pred)"
   ]
  },
  {
   "cell_type": "code",
   "execution_count": 118,
   "metadata": {
    "scrolled": true
   },
   "outputs": [
    {
     "name": "stdout",
     "output_type": "stream",
     "text": [
      "Precision Score: 0.9957212255326522\n",
      "Recall Score: 0.9957142857142857\n",
      "F1 Score: 0.9957151831419324\n"
     ]
    }
   ],
   "source": [
    "# other metrics\n",
    "print('Precision Score:',precision_score(Y_true, Y_pred, average='weighted'))\n",
    "print('Recall Score:',recall_score(Y_true, Y_pred,average='weighted'))\n",
    "print('F1 Score:',f1_score(Y_true, Y_pred,average='weighted'))"
   ]
  },
  {
   "cell_type": "code",
   "execution_count": 119,
   "metadata": {},
   "outputs": [],
   "source": [
    "# model prediction \n",
    "y_test = finalCNN.predict(x_test, batch_size=128)\n",
    "y_res = np.argmax(y_test,axis=1)\n",
    "\n",
    "# write results to csv file\n",
    "results = pd.Series(y_res,name=\"Label\")\n",
    "submission = pd.concat([pd.Series(range(1,28001),name = \"ImageId\"),results],axis = 1)\n",
    "submission.to_csv(\"CNN_100.csv\",index=False)"
   ]
  },
  {
   "cell_type": "code",
   "execution_count": 121,
   "metadata": {},
   "outputs": [
    {
     "name": "stdout",
     "output_type": "stream",
     "text": [
      "Epoch 1/100\n",
      "295/295 [==============================] - 105s 354ms/step - loss: 0.1238 - acc: 0.9683 - val_loss: 0.0261 - val_acc: 0.9938\n",
      "Epoch 2/100\n",
      "295/295 [==============================] - 120s 406ms/step - loss: 0.0834 - acc: 0.9782 - val_loss: 0.0198 - val_acc: 0.9948\n",
      "Epoch 3/100\n",
      "295/295 [==============================] - 118s 398ms/step - loss: 0.0706 - acc: 0.9805 - val_loss: 0.0177 - val_acc: 0.9943\n",
      "Epoch 4/100\n",
      "295/295 [==============================] - 96s 326ms/step - loss: 0.0652 - acc: 0.9821 - val_loss: 0.0171 - val_acc: 0.9943\n",
      "Epoch 5/100\n",
      "295/295 [==============================] - 90s 307ms/step - loss: 0.0632 - acc: 0.9826 - val_loss: 0.0175 - val_acc: 0.9943\n",
      "Epoch 6/100\n",
      "295/295 [==============================] - 910s 3s/step - loss: 0.0624 - acc: 0.9828 - val_loss: 0.0184 - val_acc: 0.9940\n",
      "Epoch 7/100\n",
      "295/295 [==============================] - 93s 314ms/step - loss: 0.0552 - acc: 0.9840 - val_loss: 0.0140 - val_acc: 0.9960\n",
      "Epoch 8/100\n",
      "295/295 [==============================] - 96s 326ms/step - loss: 0.0557 - acc: 0.9837 - val_loss: 0.0123 - val_acc: 0.9955\n",
      "Epoch 9/100\n",
      "295/295 [==============================] - 101s 344ms/step - loss: 0.0563 - acc: 0.9847 - val_loss: 0.0136 - val_acc: 0.9964\n",
      "Epoch 10/100\n",
      "295/295 [==============================] - 100s 340ms/step - loss: 0.0490 - acc: 0.9866 - val_loss: 0.0139 - val_acc: 0.9962\n",
      "Epoch 11/100\n",
      "295/295 [==============================] - 100s 338ms/step - loss: 0.0483 - acc: 0.9870 - val_loss: 0.0111 - val_acc: 0.9955\n",
      "Epoch 12/100\n",
      "295/295 [==============================] - 99s 335ms/step - loss: 0.0461 - acc: 0.9869 - val_loss: 0.0103 - val_acc: 0.9962\n",
      "Epoch 13/100\n",
      "295/295 [==============================] - 105s 357ms/step - loss: 0.0491 - acc: 0.9862 - val_loss: 0.0132 - val_acc: 0.9957\n",
      "Epoch 14/100\n",
      "295/295 [==============================] - 100s 339ms/step - loss: 0.0462 - acc: 0.9868 - val_loss: 0.0124 - val_acc: 0.9960\n",
      "Epoch 15/100\n",
      "295/295 [==============================] - 97s 327ms/step - loss: 0.0469 - acc: 0.9870 - val_loss: 0.0119 - val_acc: 0.9957\n",
      "Epoch 16/100\n",
      "295/295 [==============================] - 104s 351ms/step - loss: 0.0461 - acc: 0.9872 - val_loss: 0.0135 - val_acc: 0.9964\n",
      "Epoch 17/100\n",
      "295/295 [==============================] - 106s 358ms/step - loss: 0.0477 - acc: 0.9873 - val_loss: 0.0139 - val_acc: 0.9957\n",
      "Epoch 18/100\n",
      "295/295 [==============================] - 99s 336ms/step - loss: 0.0437 - acc: 0.9873 - val_loss: 0.0129 - val_acc: 0.9957\n",
      "Epoch 19/100\n",
      "295/295 [==============================] - 98s 332ms/step - loss: 0.0426 - acc: 0.9877 - val_loss: 0.0143 - val_acc: 0.9955\n",
      "Epoch 20/100\n",
      "295/295 [==============================] - 92s 312ms/step - loss: 0.0424 - acc: 0.9875 - val_loss: 0.0141 - val_acc: 0.9960\n",
      "Epoch 21/100\n",
      "295/295 [==============================] - 104s 353ms/step - loss: 0.0395 - acc: 0.9890 - val_loss: 0.0116 - val_acc: 0.9969\n",
      "Epoch 22/100\n",
      "295/295 [==============================] - 105s 356ms/step - loss: 0.0421 - acc: 0.9880 - val_loss: 0.0166 - val_acc: 0.9943\n",
      "Epoch 23/100\n",
      "295/295 [==============================] - 98s 333ms/step - loss: 0.0420 - acc: 0.9884 - val_loss: 0.0141 - val_acc: 0.9967\n",
      "Epoch 24/100\n",
      "295/295 [==============================] - 100s 339ms/step - loss: 0.0406 - acc: 0.9889 - val_loss: 0.0159 - val_acc: 0.9952\n",
      "Epoch 25/100\n",
      "295/295 [==============================] - 100s 338ms/step - loss: 0.0395 - acc: 0.9885 - val_loss: 0.0121 - val_acc: 0.9952\n",
      "Epoch 26/100\n",
      "295/295 [==============================] - 96s 326ms/step - loss: 0.0432 - acc: 0.9869 - val_loss: 0.0150 - val_acc: 0.9945\n",
      "Epoch 27/100\n",
      "295/295 [==============================] - 95s 321ms/step - loss: 0.0384 - acc: 0.9894 - val_loss: 0.0124 - val_acc: 0.9955\n",
      "Epoch 28/100\n",
      "295/295 [==============================] - 97s 330ms/step - loss: 0.0393 - acc: 0.9888 - val_loss: 0.0143 - val_acc: 0.9957\n",
      "Epoch 29/100\n",
      "295/295 [==============================] - 95s 322ms/step - loss: 0.0394 - acc: 0.9892 - val_loss: 0.0100 - val_acc: 0.9952\n",
      "Epoch 30/100\n",
      "295/295 [==============================] - 98s 331ms/step - loss: 0.0406 - acc: 0.9886 - val_loss: 0.0128 - val_acc: 0.9962\n",
      "Epoch 31/100\n",
      "295/295 [==============================] - 99s 335ms/step - loss: 0.0383 - acc: 0.9891 - val_loss: 0.0123 - val_acc: 0.9962\n",
      "Epoch 32/100\n",
      "295/295 [==============================] - 100s 340ms/step - loss: 0.0363 - acc: 0.9899 - val_loss: 0.0132 - val_acc: 0.9960\n",
      "Epoch 33/100\n",
      "295/295 [==============================] - 98s 334ms/step - loss: 0.0365 - acc: 0.9890 - val_loss: 0.0123 - val_acc: 0.9971\n",
      "Epoch 34/100\n",
      "295/295 [==============================] - 94s 319ms/step - loss: 0.0373 - acc: 0.9894 - val_loss: 0.0089 - val_acc: 0.9962\n",
      "Epoch 35/100\n",
      "295/295 [==============================] - 97s 328ms/step - loss: 0.0369 - acc: 0.9895 - val_loss: 0.0136 - val_acc: 0.9952\n",
      "Epoch 36/100\n",
      "295/295 [==============================] - 103s 349ms/step - loss: 0.0382 - acc: 0.9895 - val_loss: 0.0107 - val_acc: 0.9971\n",
      "Epoch 37/100\n",
      "295/295 [==============================] - 109s 371ms/step - loss: 0.0343 - acc: 0.9901 - val_loss: 0.0127 - val_acc: 0.9962\n",
      "Epoch 38/100\n",
      "295/295 [==============================] - 97s 330ms/step - loss: 0.0365 - acc: 0.9897 - val_loss: 0.0131 - val_acc: 0.9962\n",
      "Epoch 39/100\n",
      "295/295 [==============================] - 97s 329ms/step - loss: 0.0357 - acc: 0.9906 - val_loss: 0.0124 - val_acc: 0.9955\n",
      "Epoch 40/100\n",
      "295/295 [==============================] - 101s 344ms/step - loss: 0.0381 - acc: 0.9886 - val_loss: 0.0103 - val_acc: 0.9964\n",
      "Epoch 41/100\n",
      "295/295 [==============================] - 97s 329ms/step - loss: 0.0370 - acc: 0.9893 - val_loss: 0.0105 - val_acc: 0.9974\n",
      "Epoch 42/100\n",
      "295/295 [==============================] - 98s 332ms/step - loss: 0.0341 - acc: 0.9902 - val_loss: 0.0148 - val_acc: 0.9957\n",
      "Epoch 43/100\n",
      "295/295 [==============================] - 101s 341ms/step - loss: 0.0375 - acc: 0.9897 - val_loss: 0.0145 - val_acc: 0.9960\n",
      "Epoch 44/100\n",
      "295/295 [==============================] - 99s 337ms/step - loss: 0.0340 - acc: 0.9904 - val_loss: 0.0119 - val_acc: 0.9964\n",
      "Epoch 45/100\n",
      "295/295 [==============================] - 96s 327ms/step - loss: 0.0349 - acc: 0.9903 - val_loss: 0.0146 - val_acc: 0.9969\n",
      "Epoch 46/100\n",
      "295/295 [==============================] - 94s 317ms/step - loss: 0.0357 - acc: 0.9896 - val_loss: 0.0105 - val_acc: 0.9967\n",
      "Epoch 47/100\n",
      "295/295 [==============================] - 104s 351ms/step - loss: 0.0334 - acc: 0.9903 - val_loss: 0.0127 - val_acc: 0.9955\n",
      "Epoch 48/100\n",
      "295/295 [==============================] - 880s 3s/step - loss: 0.0384 - acc: 0.9890 - val_loss: 0.0152 - val_acc: 0.9957\n",
      "Epoch 49/100\n",
      "295/295 [==============================] - 96s 324ms/step - loss: 0.0312 - acc: 0.9907 - val_loss: 0.0114 - val_acc: 0.9960\n",
      "Epoch 50/100\n",
      "295/295 [==============================] - 1038s 4s/step - loss: 0.0330 - acc: 0.9905 - val_loss: 0.0099 - val_acc: 0.9960\n",
      "Epoch 51/100\n",
      "295/295 [==============================] - 103s 350ms/step - loss: 0.0340 - acc: 0.9909 - val_loss: 0.0132 - val_acc: 0.9955\n",
      "Epoch 52/100\n",
      "295/295 [==============================] - 95s 323ms/step - loss: 0.0346 - acc: 0.9905 - val_loss: 0.0117 - val_acc: 0.9960\n",
      "Epoch 53/100\n",
      "295/295 [==============================] - 92s 311ms/step - loss: 0.0307 - acc: 0.9905 - val_loss: 0.0158 - val_acc: 0.9960\n",
      "Epoch 54/100\n",
      "295/295 [==============================] - 90s 306ms/step - loss: 0.0351 - acc: 0.9909 - val_loss: 0.0114 - val_acc: 0.9967\n",
      "Epoch 55/100\n",
      "295/295 [==============================] - 90s 304ms/step - loss: 0.0315 - acc: 0.9904 - val_loss: 0.0105 - val_acc: 0.9967\n",
      "Epoch 56/100\n",
      "295/295 [==============================] - 89s 303ms/step - loss: 0.0322 - acc: 0.9909 - val_loss: 0.0140 - val_acc: 0.9967\n",
      "Epoch 57/100\n",
      "295/295 [==============================] - 91s 310ms/step - loss: 0.0329 - acc: 0.9911 - val_loss: 0.0157 - val_acc: 0.9955\n",
      "Epoch 58/100\n",
      "295/295 [==============================] - 97s 329ms/step - loss: 0.0360 - acc: 0.9900 - val_loss: 0.0112 - val_acc: 0.9967\n",
      "Epoch 59/100\n",
      "295/295 [==============================] - 92s 310ms/step - loss: 0.0337 - acc: 0.9905 - val_loss: 0.0135 - val_acc: 0.9969\n",
      "Epoch 60/100\n",
      "295/295 [==============================] - 92s 311ms/step - loss: 0.0324 - acc: 0.9905 - val_loss: 0.0109 - val_acc: 0.9964\n"
     ]
    },
    {
     "name": "stdout",
     "output_type": "stream",
     "text": [
      "Epoch 61/100\n",
      "295/295 [==============================] - 96s 326ms/step - loss: 0.0338 - acc: 0.9903 - val_loss: 0.0120 - val_acc: 0.9955\n",
      "Epoch 62/100\n",
      "295/295 [==============================] - 95s 321ms/step - loss: 0.0304 - acc: 0.9912 - val_loss: 0.0117 - val_acc: 0.9964\n",
      "Epoch 63/100\n",
      "295/295 [==============================] - 93s 317ms/step - loss: 0.0298 - acc: 0.9917 - val_loss: 0.0116 - val_acc: 0.9952\n",
      "Epoch 64/100\n",
      "295/295 [==============================] - 107s 363ms/step - loss: 0.0293 - acc: 0.9916 - val_loss: 0.0095 - val_acc: 0.9967\n",
      "Epoch 65/100\n",
      "295/295 [==============================] - 91s 309ms/step - loss: 0.0299 - acc: 0.9914 - val_loss: 0.0098 - val_acc: 0.9962\n",
      "Epoch 66/100\n",
      "295/295 [==============================] - 93s 314ms/step - loss: 0.0320 - acc: 0.9910 - val_loss: 0.0120 - val_acc: 0.9960\n",
      "Epoch 67/100\n",
      "295/295 [==============================] - 95s 321ms/step - loss: 0.0294 - acc: 0.9914 - val_loss: 0.0101 - val_acc: 0.9971\n",
      "Epoch 68/100\n",
      "295/295 [==============================] - 1021s 3s/step - loss: 0.0299 - acc: 0.9920 - val_loss: 0.0138 - val_acc: 0.9960\n",
      "Epoch 69/100\n",
      "295/295 [==============================] - 101s 342ms/step - loss: 0.0308 - acc: 0.9908 - val_loss: 0.0122 - val_acc: 0.9955\n",
      "Epoch 70/100\n",
      "295/295 [==============================] - 96s 327ms/step - loss: 0.0314 - acc: 0.9901 - val_loss: 0.0125 - val_acc: 0.9957\n",
      "Epoch 71/100\n",
      "295/295 [==============================] - 103s 349ms/step - loss: 0.0330 - acc: 0.9906 - val_loss: 0.0118 - val_acc: 0.9962\n",
      "Epoch 72/100\n",
      "295/295 [==============================] - 99s 335ms/step - loss: 0.0293 - acc: 0.9917 - val_loss: 0.0131 - val_acc: 0.9943\n",
      "Epoch 73/100\n",
      "295/295 [==============================] - 100s 340ms/step - loss: 0.0302 - acc: 0.9910 - val_loss: 0.0125 - val_acc: 0.9964\n",
      "Epoch 74/100\n",
      "295/295 [==============================] - 109s 370ms/step - loss: 0.0264 - acc: 0.9924 - val_loss: 0.0153 - val_acc: 0.9957\n",
      "Epoch 75/100\n",
      "295/295 [==============================] - 103s 351ms/step - loss: 0.0295 - acc: 0.9917 - val_loss: 0.0139 - val_acc: 0.9964\n",
      "Epoch 76/100\n",
      "295/295 [==============================] - 111s 378ms/step - loss: 0.0286 - acc: 0.9919 - val_loss: 0.0119 - val_acc: 0.9962\n",
      "Epoch 77/100\n",
      "295/295 [==============================] - 100s 338ms/step - loss: 0.0288 - acc: 0.9911 - val_loss: 0.0083 - val_acc: 0.9969\n",
      "Epoch 78/100\n",
      "295/295 [==============================] - 108s 367ms/step - loss: 0.0276 - acc: 0.9927 - val_loss: 0.0076 - val_acc: 0.9979\n",
      "Epoch 79/100\n",
      "295/295 [==============================] - 108s 367ms/step - loss: 0.0292 - acc: 0.9909 - val_loss: 0.0092 - val_acc: 0.9969\n",
      "Epoch 80/100\n",
      "295/295 [==============================] - 106s 359ms/step - loss: 0.0278 - acc: 0.9918 - val_loss: 0.0066 - val_acc: 0.9976\n",
      "Epoch 81/100\n",
      "295/295 [==============================] - 122s 415ms/step - loss: 0.0320 - acc: 0.9911 - val_loss: 0.0084 - val_acc: 0.9974\n",
      "Epoch 82/100\n",
      "295/295 [==============================] - 94s 319ms/step - loss: 0.0252 - acc: 0.9931 - val_loss: 0.0081 - val_acc: 0.9969\n",
      "Epoch 83/100\n",
      "295/295 [==============================] - 99s 335ms/step - loss: 0.0291 - acc: 0.9919 - val_loss: 0.0064 - val_acc: 0.9976\n",
      "Epoch 84/100\n",
      "295/295 [==============================] - 229s 775ms/step - loss: 0.0286 - acc: 0.9923 - val_loss: 0.0091 - val_acc: 0.9974\n",
      "Epoch 85/100\n",
      "295/295 [==============================] - 98s 332ms/step - loss: 0.0315 - acc: 0.9915 - val_loss: 0.0079 - val_acc: 0.9971\n",
      "Epoch 86/100\n",
      "295/295 [==============================] - 91s 309ms/step - loss: 0.0282 - acc: 0.9921 - val_loss: 0.0092 - val_acc: 0.9974\n",
      "Epoch 87/100\n",
      "295/295 [==============================] - 91s 310ms/step - loss: 0.0295 - acc: 0.9918 - val_loss: 0.0084 - val_acc: 0.9974\n",
      "Epoch 88/100\n",
      "295/295 [==============================] - 90s 306ms/step - loss: 0.0279 - acc: 0.9922 - val_loss: 0.0107 - val_acc: 0.9967\n",
      "Epoch 89/100\n",
      "295/295 [==============================] - 91s 308ms/step - loss: 0.0265 - acc: 0.9926 - val_loss: 0.0098 - val_acc: 0.9964\n",
      "Epoch 90/100\n",
      "295/295 [==============================] - 92s 310ms/step - loss: 0.0288 - acc: 0.9919 - val_loss: 0.0089 - val_acc: 0.9964\n",
      "Epoch 91/100\n",
      "295/295 [==============================] - 92s 310ms/step - loss: 0.0300 - acc: 0.9914 - val_loss: 0.0112 - val_acc: 0.9962\n",
      "Epoch 92/100\n",
      "295/295 [==============================] - 91s 309ms/step - loss: 0.0278 - acc: 0.9918 - val_loss: 0.0074 - val_acc: 0.9976\n",
      "Epoch 93/100\n",
      "295/295 [==============================] - 91s 308ms/step - loss: 0.0285 - acc: 0.9922 - val_loss: 0.0112 - val_acc: 0.9964\n",
      "Epoch 94/100\n",
      "295/295 [==============================] - 92s 313ms/step - loss: 0.0250 - acc: 0.9927 - val_loss: 0.0113 - val_acc: 0.9955\n",
      "Epoch 95/100\n",
      "295/295 [==============================] - 92s 312ms/step - loss: 0.0286 - acc: 0.9919 - val_loss: 0.0075 - val_acc: 0.9979\n",
      "Epoch 96/100\n",
      "295/295 [==============================] - 92s 312ms/step - loss: 0.0294 - acc: 0.9914 - val_loss: 0.0097 - val_acc: 0.9955\n",
      "Epoch 97/100\n",
      "295/295 [==============================] - 94s 319ms/step - loss: 0.0296 - acc: 0.9914 - val_loss: 0.0087 - val_acc: 0.9979\n",
      "Epoch 98/100\n",
      "295/295 [==============================] - 92s 313ms/step - loss: 0.0263 - acc: 0.9923 - val_loss: 0.0104 - val_acc: 0.9960\n",
      "Epoch 99/100\n",
      "295/295 [==============================] - 101s 343ms/step - loss: 0.0306 - acc: 0.9915 - val_loss: 0.0112 - val_acc: 0.9969\n",
      "Epoch 100/100\n",
      "295/295 [==============================] - 194s 659ms/step - loss: 0.0288 - acc: 0.9926 - val_loss: 0.0116 - val_acc: 0.9962\n"
     ]
    }
   ],
   "source": [
    "# try data augmentation to see if there is any further improvement\n",
    "datagen = ImageDataGenerator(\n",
    "        featurewise_center=False,  \n",
    "        samplewise_center=False,  \n",
    "        featurewise_std_normalization=False, \n",
    "        samplewise_std_normalization=False,  \n",
    "        zca_whitening=False,  \n",
    "        rotation_range=10,  \n",
    "        zoom_range = 0.1, \n",
    "        width_shift_range=0.1,  \n",
    "        height_shift_range=0.1,  \n",
    "        horizontal_flip=False,  \n",
    "        vertical_flip=False)  \n",
    "datagen.fit(X_train)\n",
    "\n",
    "CNNwithDA = finalCNN.fit_generator(datagen.flow(X_train,Y_train, batch_size=128),\n",
    "                              epochs = 100, validation_data = (X_val,Y_val),\n",
    "                              verbose = 1, steps_per_epoch=X_train.shape[0] // 128)"
   ]
  },
  {
   "cell_type": "code",
   "execution_count": 76,
   "metadata": {},
   "outputs": [],
   "source": [
    "#historydf = pd.DataFrame(CNNwithDA.history, index=CNNwithDA.epoch)"
   ]
  },
  {
   "cell_type": "code",
   "execution_count": 122,
   "metadata": {},
   "outputs": [
    {
     "data": {
      "image/png": "[encoded data removed]",
      "text/plain": [
       "<Figure size 432x288 with 1 Axes>"
      ]
     },
     "metadata": {
      "needs_background": "light"
     },
     "output_type": "display_data"
    },
    {
     "data": {
      "image/png": "[encoded data removed]",
      "text/plain": [
       "<Figure size 432x288 with 1 Axes>"
      ]
     },
     "metadata": {
      "needs_background": "light"
     },
     "output_type": "display_data"
    }
   ],
   "source": [
    "# plot the accuracy & loss vs epochs\n",
    "plot_loss_accuracy(CNNwithDA)"
   ]
  },
  {
   "cell_type": "code",
   "execution_count": 123,
   "metadata": {},
   "outputs": [
    {
     "name": "stdout",
     "output_type": "stream",
     "text": [
      "Val loss: 0.011609445702134898\n",
      "Val accuracy: 0.9961904761904762\n"
     ]
    },
    {
     "data": {
      "text/plain": [
       "array([[426,   0,   0,   0,   0,   0,   2,   0,   0,   0],\n",
       "       [  0, 435,   1,   0,   0,   0,   0,   0,   1,   0],\n",
       "       [  0,   0, 420,   0,   0,   0,   0,   0,   0,   0],\n",
       "       [  0,   0,   0, 446,   0,   0,   0,   0,   0,   0],\n",
       "       [  0,   0,   0,   0, 379,   0,   1,   0,   0,   0],\n",
       "       [  0,   0,   0,   0,   0, 413,   2,   0,   0,   0],\n",
       "       [  0,   0,   1,   0,   1,   0, 435,   0,   0,   0],\n",
       "       [  0,   0,   0,   0,   1,   0,   0, 446,   0,   1],\n",
       "       [  0,   1,   1,   0,   0,   0,   2,   0, 387,   0],\n",
       "       [  0,   0,   0,   0,   1,   0,   0,   0,   0, 397]])"
      ]
     },
     "execution_count": 123,
     "metadata": {},
     "output_type": "execute_result"
    },
    {
     "name": "stdout",
     "output_type": "stream",
     "text": [
      "Precision Score: 0.9962157484251535\n",
      "Recall Score: 0.9961904761904762\n",
      "F1 Score: 0.9961947248178707\n"
     ]
    }
   ],
   "source": [
    "# Evaluation\n",
    "score = finalCNN.evaluate(X_val, Y_val, verbose=0)\n",
    "print('Val loss:', score[0])\n",
    "print('Val accuracy:', score[1])\n",
    "# confusion_matrix\n",
    "Y_model = finalCNN.predict(X_val)\n",
    "Y_pred = np.argmax(Y_model, axis=1)\n",
    "Y_true = np.argmax(Y_val, axis=1)\n",
    "confusion_matrix(Y_true, Y_pred)\n",
    "# other metrics\n",
    "print('Precision Score:',precision_score(Y_true, Y_pred, average='weighted'))\n",
    "print('Recall Score:',recall_score(Y_true, Y_pred,average='weighted'))\n",
    "print('F1 Score:',f1_score(Y_true, Y_pred,average='weighted'))"
   ]
  },
  {
   "cell_type": "code",
   "execution_count": 124,
   "metadata": {},
   "outputs": [],
   "source": [
    "# model prediction \n",
    "y_test = finalCNN.predict(x_test, batch_size=128)\n",
    "y_res = np.argmax(y_test,axis=1)"
   ]
  },
  {
   "cell_type": "code",
   "execution_count": 125,
   "metadata": {},
   "outputs": [],
   "source": [
    "# write results to csv file\n",
    "results = pd.Series(y_res,name=\"Label\")\n",
    "submission = pd.concat([pd.Series(range(1,28001),name = \"ImageId\"),results],axis = 1)\n",
    "submission.to_csv(\"CNN_100_withDA.csv\",index=False)"
   ]
  },
  {
   "cell_type": "code",
   "execution_count": null,
   "metadata": {},
   "outputs": [],
   "source": []
  }
 ],
 "metadata": {
  "kernelspec": {
   "display_name": "Python 3",
   "language": "python",
   "name": "python3"
  },
  "language_info": {
   "codemirror_mode": {
    "name": "ipython",
    "version": 3
   },
   "file_extension": ".py",
   "mimetype": "text/x-python",
   "name": "python",
   "nbconvert_exporter": "python",
   "pygments_lexer": "ipython3",
   "version": "3.7.3"
  }
 },
 "nbformat": 4,
 "nbformat_minor": 2
}
