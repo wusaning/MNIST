{
 "cells": [
  {
   "cell_type": "code",
   "execution_count": 1,
   "metadata": {},
   "outputs": [
    {
     "name": "stderr",
     "output_type": "stream",
     "text": [
      "Using TensorFlow backend.\n"
     ]
    }
   ],
   "source": [
    "%matplotlib inline\n",
    "import pandas as pd\n",
    "import numpy as np\n",
    "import warnings\n",
    "import matplotlib.pyplot as plt \n",
    "\n",
    "from collections import Counter\n",
    "from sklearn.model_selection import train_test_split\n",
    "from sklearn.preprocessing import OneHotEncoder\n",
    "from keras.utils.np_utils import to_categorical\n",
    "from keras.models import Sequential,Model,load_model\n",
    "from keras.layers import Dense, Dropout, Flatten, Conv2D, MaxPool2D, BatchNormalization,GlobalAveragePooling2D,Input,Activation\n",
    "from keras.layers.merge import add\n",
    "from keras.optimizers import RMSprop\n",
    "from keras.activations import relu,softmax\n",
    "from keras import optimizers,applications,regularizers\n",
    "from keras.preprocessing.image import ImageDataGenerator\n",
    "from keras.callbacks import TensorBoard,ReduceLROnPlateau,ModelCheckpoint\n",
    "from tensorflow.keras import backend\n",
    "from keras.models import model_from_json\n",
    "\n",
    "seed = 42\n",
    "warnings.filterwarnings(\"ignore\")"
   ]
  },
  {
   "cell_type": "code",
   "execution_count": 27,
   "metadata": {},
   "outputs": [
    {
     "data": {
      "application/javascript": [
       "IPython.notebook.set_autosave_interval(0)"
      ]
     },
     "metadata": {},
     "output_type": "display_data"
    },
    {
     "name": "stdout",
     "output_type": "stream",
     "text": [
      "Autosave disabled\n"
     ]
    }
   ],
   "source": [
    "%autosave 0"
   ]
  },
  {
   "cell_type": "code",
   "execution_count": 6,
   "metadata": {},
   "outputs": [],
   "source": [
    "df_train = pd.read_csv('train.csv')\n",
    "df_test = pd.read_csv('test.csv')"
   ]
  },
  {
   "cell_type": "code",
   "execution_count": 7,
   "metadata": {},
   "outputs": [
    {
     "name": "stdout",
     "output_type": "stream",
     "text": [
      "Shape of X_train: (42000, 28, 28, 1)\n",
      "Shape of X_test : (28000, 28, 28, 1)\n"
     ]
    }
   ],
   "source": [
    "#X_train = df_train.drop(['label'], axis=1)\n",
    "#y_train = df_train['label']\n",
    "\n",
    "#df_train['label'] = df_train['label'].replace(to_replace=np.nan, value=0.0)\n",
    "#df_train['label'] = df_train['label'].replace(to_replace='', value=0.0)\n",
    "y_train_ = df_train['label'].values.astype(np.int).reshape(-1, 1)\n",
    "X_train = df_train[df_train.columns[1:]].values.astype(np.float32).reshape((-1, 28, 28, 1))\n",
    "\n",
    "del df_train\n",
    "X_test = df_test.values.astype(np.float32).reshape((-1, 28, 28, 1))\n",
    "\n",
    "del df_test\n",
    "\n",
    "print('Shape of X_train:', X_train.shape)\n",
    "#print('Shape of y_train:', y_train.shape)\n",
    "print('Shape of X_test :', X_test.shape)"
   ]
  },
  {
   "cell_type": "code",
   "execution_count": null,
   "metadata": {},
   "outputs": [],
   "source": [
    "#X_train = X_train / 255\n",
    "#X_test = X_test / 255"
   ]
  },
  {
   "cell_type": "code",
   "execution_count": 9,
   "metadata": {},
   "outputs": [
    {
     "name": "stdout",
     "output_type": "stream",
     "text": [
      "Shape of X_train: (42000, 28, 28, 1)\n",
      "Shape of X_test : (28000, 28, 28, 1)\n"
     ]
    }
   ],
   "source": [
    "#X_train = X_train.values.reshape(-1,28,28,1) \n",
    "#X_test = X_test.values.reshape(-1,28,28,1)\n",
    "\n",
    "print('Shape of X_train:', X_train.shape)\n",
    "print('Shape of X_test :', X_test.shape)"
   ]
  },
  {
   "cell_type": "code",
   "execution_count": 10,
   "metadata": {},
   "outputs": [
    {
     "data": {
      "text/plain": [
       "(42000, 10)"
      ]
     },
     "execution_count": 10,
     "metadata": {},
     "output_type": "execute_result"
    }
   ],
   "source": [
    "# Encoding\n",
    "\n",
    "y_train = OneHotEncoder(sparse=False).fit_transform(y_train_)\n",
    "#y_train = to_categorical(y_train, num_classes = 10)\n",
    "y_train.shape"
   ]
  },
  {
   "cell_type": "code",
   "execution_count": 12,
   "metadata": {},
   "outputs": [],
   "source": [
    "X_train, x_val, y_train, y_val = train_test_split(X_train, y_train, test_size=0.2, stratify=y_train_)"
   ]
  },
  {
   "cell_type": "code",
   "execution_count": 13,
   "metadata": {},
   "outputs": [],
   "source": [
    "def block(n_output, upscale=False):\n",
    "    # n_output: number of feature maps in the block\n",
    "    # upscale: should we use the 1x1 conv2d mapping for shortcut or not\n",
    "    \n",
    "    # keras functional api: return the function of type\n",
    "    # Tensor -> Tensor\n",
    "    def f(x):\n",
    "        \n",
    "        # H_l(x):\n",
    "        # first pre-activation\n",
    "        h = BatchNormalization()(x)\n",
    "        h = Activation(relu)(h)\n",
    "        # first convolution\n",
    "        h = Conv2D(kernel_size=3, filters=n_output, strides=1, padding='same', kernel_regularizer=regularizers.l2(0.01))(h)\n",
    "        \n",
    "        # second pre-activation\n",
    "        h = BatchNormalization()(x)\n",
    "        h = Activation(relu)(h)\n",
    "        # second convolution\n",
    "        h = Conv2D(kernel_size=3, filters=n_output, strides=1, padding='same', kernel_regularizer=regularizers.l2(0.01))(h)\n",
    "        \n",
    "        # f(x):\n",
    "        if upscale:\n",
    "            # 1x1 conv2d\n",
    "            f = Conv2D(kernel_size=1, filters=n_output, strides=1, padding='same')(x)\n",
    "        else:\n",
    "            # identity\n",
    "            f = x\n",
    "        \n",
    "        # F_l(x) = f(x) + H_l(x):\n",
    "        return add([f, h])\n",
    "    \n",
    "    return f"
   ]
  },
  {
   "cell_type": "code",
   "execution_count": 14,
   "metadata": {},
   "outputs": [],
   "source": [
    "# input tensor is the 28x28 grayscale image\n",
    "input_tensor = Input((28, 28, 1))\n",
    "\n",
    "# first conv2d with post-activation to transform the input data to some reasonable form\n",
    "x = Conv2D(kernel_size=3, filters=16, strides=1, padding='same', kernel_regularizer=regularizers.l2(0.01))(input_tensor)\n",
    "x = BatchNormalization()(x)\n",
    "x = Activation(relu)(x)\n",
    "\n",
    "# F_1\n",
    "x = block(16)(x)\n",
    "# F_2\n",
    "x = block(16)(x)\n",
    "\n",
    "# F_3\n",
    "# H_3 is the function from the tensor of size 28x28x16 to the the tensor of size 28x28x32\n",
    "# and we can't add together tensors of inconsistent sizes, so we use upscale=True\n",
    "x = block(32, upscale=True)(x)       # !!! <------- Uncomment for local evaluation\n",
    "# F_4\n",
    "x = block(32)(x)                     # !!! <------- Uncomment for local evaluation\n",
    "# F_5\n",
    "x = block(32)(x)                     # !!! <------- Uncomment for local evaluation\n",
    "\n",
    "# F_6\n",
    "x = block(48, upscale=True)(x)       # !!! <------- Uncomment for local evaluation\n",
    "# F_7\n",
    "x = block(48)(x)                     # !!! <------- Uncomment for local evaluation\n",
    "\n",
    "# last activation of the entire network's output\n",
    "x = BatchNormalization()(x)\n",
    "x = Activation(relu)(x)\n",
    "\n",
    "# average pooling across the channels\n",
    "# 28x28x48 -> 1x48\n",
    "x = GlobalAveragePooling2D()(x)\n",
    "\n",
    "# dropout for more robust learning\n",
    "x = Dropout(0.2)(x)\n",
    "\n",
    "# last softmax layer\n",
    "x = Dense(units=10, kernel_regularizer=regularizers.l2(0.01))(x)\n",
    "x = Activation(softmax)(x)\n",
    "\n",
    "model = Model(inputs=input_tensor, outputs=x)\n",
    "model.compile(loss='categorical_crossentropy', optimizer='adam', metrics=['accuracy'])"
   ]
  },
  {
   "cell_type": "code",
   "execution_count": 15,
   "metadata": {},
   "outputs": [],
   "source": [
    "from keras.callbacks import LearningRateScheduler, ModelCheckpoint"
   ]
  },
  {
   "cell_type": "code",
   "execution_count": 16,
   "metadata": {},
   "outputs": [],
   "source": [
    "mc = ModelCheckpoint('weights.best.keras', monitor='val_acc', save_best_only=True)"
   ]
  },
  {
   "cell_type": "code",
   "execution_count": 17,
   "metadata": {},
   "outputs": [],
   "source": [
    "def sigmoidal_decay(e, start=0, end=100, lr_start=1e-3, lr_end=1e-5):\n",
    "    if e < start:\n",
    "        return lr_start\n",
    "    \n",
    "    if e > end:\n",
    "        return lr_end\n",
    "    \n",
    "    middle = (start + end) / 2\n",
    "    s = lambda x: 1 / (1 + np.exp(-x))\n",
    "    \n",
    "    return s(13 * (-e + middle) / np.abs(end - start)) * np.abs(lr_start - lr_end) + lr_end"
   ]
  },
  {
   "cell_type": "code",
   "execution_count": 18,
   "metadata": {},
   "outputs": [
    {
     "data": {
      "image/png": "[encoded data removed]",
      "text/plain": [
       "<Figure size 432x288 with 1 Axes>"
      ]
     },
     "metadata": {
      "needs_background": "light"
     },
     "output_type": "display_data"
    }
   ],
   "source": [
    "xs = np.linspace(0, 100)\n",
    "ys = np.vectorize(sigmoidal_decay)(xs)\n",
    "plt.plot(xs, ys)\n",
    "plt.show()"
   ]
  },
  {
   "cell_type": "code",
   "execution_count": 21,
   "metadata": {},
   "outputs": [],
   "source": [
    "EPOCHS = 12                        # !!! <------- Chnage to 30-100 for local evaluation"
   ]
  },
  {
   "cell_type": "code",
   "execution_count": 22,
   "metadata": {},
   "outputs": [],
   "source": [
    "m = X_train.mean(axis=0)\n",
    "\n",
    "X_train -= m\n",
    "del m"
   ]
  },
  {
   "cell_type": "code",
   "execution_count": 23,
   "metadata": {},
   "outputs": [],
   "source": [
    "m = X_train.mean(axis=0)\n",
    "x_val -= m"
   ]
  },
  {
   "cell_type": "code",
   "execution_count": 24,
   "metadata": {},
   "outputs": [],
   "source": [
    "X_test -= m"
   ]
  },
  {
   "cell_type": "code",
   "execution_count": 25,
   "metadata": {},
   "outputs": [],
   "source": [
    "lr = LearningRateScheduler(lambda e: sigmoidal_decay(e, end=EPOCHS))"
   ]
  },
  {
   "cell_type": "code",
   "execution_count": 26,
   "metadata": {
    "scrolled": true
   },
   "outputs": [
    {
     "name": "stdout",
     "output_type": "stream",
     "text": [
      "Train on 33600 samples, validate on 8400 samples\n",
      "Epoch 1/12\n",
      "33600/33600 [==============================] - 483s 14ms/step - loss: 3.1056 - acc: 0.3926 - val_loss: 2.8537 - val_acc: 0.1743\n",
      "Epoch 2/12\n",
      "33600/33600 [==============================] - 479s 14ms/step - loss: 1.5112 - acc: 0.8218 - val_loss: 2.8185 - val_acc: 0.1027\n",
      "Epoch 3/12\n",
      "33600/33600 [==============================] - 476s 14ms/step - loss: 1.0086 - acc: 0.9368 - val_loss: 2.8188 - val_acc: 0.0999\n",
      "Epoch 4/12\n",
      "33600/33600 [==============================] - 477s 14ms/step - loss: 0.8128 - acc: 0.9554 - val_loss: 2.7415 - val_acc: 0.0999\n",
      "Epoch 5/12\n",
      "33600/33600 [==============================] - 479s 14ms/step - loss: 0.7123 - acc: 0.9629 - val_loss: 2.5598 - val_acc: 0.1826\n",
      "Epoch 6/12\n",
      "33600/33600 [==============================] - 476s 14ms/step - loss: 0.6409 - acc: 0.9674 - val_loss: 2.4715 - val_acc: 0.1523\n",
      "Epoch 7/12\n",
      "33600/33600 [==============================] - 475s 14ms/step - loss: 0.5850 - acc: 0.9719 - val_loss: 2.3166 - val_acc: 0.2270\n",
      "Epoch 8/12\n",
      "33600/33600 [==============================] - 476s 14ms/step - loss: 0.5501 - acc: 0.9752 - val_loss: 2.1285 - val_acc: 0.3667\n",
      "Epoch 9/12\n",
      "33600/33600 [==============================] - 474s 14ms/step - loss: 0.5312 - acc: 0.9760 - val_loss: 2.0272 - val_acc: 0.4148\n",
      "Epoch 10/12\n",
      "33600/33600 [==============================] - 478s 14ms/step - loss: 0.5191 - acc: 0.9787 - val_loss: 2.1783 - val_acc: 0.2769\n",
      "Epoch 11/12\n",
      "33600/33600 [==============================] - 415s 12ms/step - loss: 0.5157 - acc: 0.9792 - val_loss: 2.1920 - val_acc: 0.3001\n",
      "Epoch 12/12\n",
      "33600/33600 [==============================] - 242s 7ms/step - loss: 0.5130 - acc: 0.9801 - val_loss: 2.3527 - val_acc: 0.2650\n"
     ]
    }
   ],
   "source": [
    "hist = model.fit(X_train, y_train, epochs=EPOCHS, validation_data=(x_val, y_val), batch_size=512, callbacks=[lr, mc])"
   ]
  },
  {
   "cell_type": "code",
   "execution_count": 28,
   "metadata": {},
   "outputs": [
    {
     "data": {
      "image/png": "[encoded data removed]",
      "text/plain": [
       "<Figure size 432x288 with 1 Axes>"
      ]
     },
     "metadata": {
      "needs_background": "light"
     },
     "output_type": "display_data"
    }
   ],
   "source": [
    "acc = hist.history['acc']\n",
    "val_acc = hist.history['val_acc']\n",
    "epochs = np.arange(1, EPOCHS + 1)\n",
    "\n",
    "plt.plot(epochs, acc)\n",
    "plt.plot(epochs, val_acc)\n",
    "plt.show()"
   ]
  },
  {
   "cell_type": "code",
   "execution_count": 29,
   "metadata": {},
   "outputs": [],
   "source": [
    "model.load_weights('weights.best.keras')"
   ]
  },
  {
   "cell_type": "code",
   "execution_count": 30,
   "metadata": {},
   "outputs": [],
   "source": [
    "p_test = model.predict(X_test, batch_size=512)\n",
    "p_test = np.argmax(p_test, axis=1)"
   ]
  },
  {
   "cell_type": "code",
   "execution_count": 31,
   "metadata": {},
   "outputs": [],
   "source": [
    "pd.DataFrame({'ImageId': 1 + np.arange(p_test.shape[0]), 'Label': p_test}).to_csv('output.csv', index=False)"
   ]
  },
  {
   "cell_type": "code",
   "execution_count": null,
   "metadata": {},
   "outputs": [],
   "source": []
  }
 ],
 "metadata": {
  "kernelspec": {
   "display_name": "Python 3",
   "language": "python",
   "name": "python3"
  },
  "language_info": {
   "codemirror_mode": {
    "name": "ipython",
    "version": 3
   },
   "file_extension": ".py",
   "mimetype": "text/x-python",
   "name": "python",
   "nbconvert_exporter": "python",
   "pygments_lexer": "ipython3",
   "version": "3.7.3"
  }
 },
 "nbformat": 4,
 "nbformat_minor": 2
}
